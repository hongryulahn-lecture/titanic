{
 "cells": [
  {
   "cell_type": "markdown",
   "metadata": {
    "_uuid": "cdf596072bafc50a9ea91b853b0561c6b24746cd",
    "papermill": {
     "duration": 0.039006,
     "end_time": "2020-11-18T17:24:13.092172",
     "exception": false,
     "start_time": "2020-11-18T17:24:13.053166",
     "status": "completed"
    },
    "tags": []
   },
   "source": [
    "# Titanic 생존자 분류 실습"
   ]
  },
  {
   "cell_type": "markdown",
   "metadata": {
    "papermill": {
     "duration": 0.034958,
     "end_time": "2020-11-18T17:24:13.163190",
     "exception": false,
     "start_time": "2020-11-18T17:24:13.128232",
     "status": "completed"
    },
    "tags": []
   },
   "source": [
    "# 목차\n",
    "1. 데이터 불러오기\n",
    "1. 데이터 관찰\n",
    "1. 데이터 전처리\n",
    "   1. 1309명 X 12차원(11 features, 1 label)\n",
    "       1. Age: 나이\n",
    "       1. Cabin: 객실 번호\n",
    "       1. Embarked: 탑승 항구\n",
    "       1. Fare: 탑승료\n",
    "       1. Name: 이름\n",
    "       1. Parch: 함께 탑승한 부모, 아이의 수\n",
    "       1. PassengerId: 말 그대로 승객 ID\n",
    "       1. Pclass: 좌석 등급\n",
    "       1. Sex: 성별\n",
    "       1. SibSp: 함께 탑승한 형제 자매 또는 배우자의 수\n",
    "       1. Ticket: 티켓 번호    \n",
    "       1. Survived : 생존(1) 사망(0)\n",
    "1. 최종 데이터\n",
    "   1. 1309명 X 19차원(18 features, 1 label)\n",
    "1. 머신러닝 모델 학습\n",
    "1. 학습 결과 분석\n",
    "1. 최고 성능 모델로 재학습\n",
    "1. 결과 저장"
   ]
  },
  {
   "cell_type": "markdown",
   "metadata": {
    "papermill": {
     "duration": 0.034473,
     "end_time": "2020-11-18T17:24:13.232898",
     "exception": false,
     "start_time": "2020-11-18T17:24:13.198425",
     "status": "completed"
    },
    "tags": []
   },
   "source": [
    "# 1. 데이터 불러오기"
   ]
  },
  {
   "cell_type": "code",
   "execution_count": 1,
   "metadata": {
    "_cell_guid": "b1076dfc-b9ad-4769-8c92-a6c4dae69d19",
    "_uuid": "8f2839f25d086af736a60e9eeb907d3b93b6e0e5",
    "execution": {
     "iopub.execute_input": "2020-11-18T17:24:13.312370Z",
     "iopub.status.busy": "2020-11-18T17:24:13.311494Z",
     "iopub.status.idle": "2020-11-18T17:24:13.345611Z",
     "shell.execute_reply": "2020-11-18T17:24:13.344664Z"
    },
    "papermill": {
     "duration": 0.078137,
     "end_time": "2020-11-18T17:24:13.345800",
     "exception": false,
     "start_time": "2020-11-18T17:24:13.267663",
     "status": "completed"
    },
    "tags": []
   },
   "outputs": [
    {
     "name": "stdout",
     "output_type": "stream",
     "text": [
      "train shape  (891, 12) ; test shape  (418, 11) ; all data (1309, 12)\n"
     ]
    }
   ],
   "source": [
    "import numpy as np\n",
    "import pandas as pd\n",
    "train_data = pd.read_csv('../input/titanic/train.csv')\n",
    "test_data = pd.read_csv('../input/titanic/test.csv')\n",
    "data = pd.concat([train_data,test_data],axis=0,ignore_index=True)\n",
    "print('train shape ', train_data.shape, '; test shape ',test_data.shape, '; all data',data.shape)"
   ]
  },
  {
   "cell_type": "markdown",
   "metadata": {
    "papermill": {
     "duration": 0.036194,
     "end_time": "2020-11-18T17:24:13.418518",
     "exception": false,
     "start_time": "2020-11-18T17:24:13.382324",
     "status": "completed"
    },
    "tags": []
   },
   "source": [
    "# 2. 데이터 관찰하기"
   ]
  },
  {
   "cell_type": "markdown",
   "metadata": {
    "papermill": {
     "duration": 0.035109,
     "end_time": "2020-11-18T17:24:13.489118",
     "exception": false,
     "start_time": "2020-11-18T17:24:13.454009",
     "status": "completed"
    },
    "tags": []
   },
   "source": [
    "데이터는 \n",
    "\n",
    "1309명(train: 891명, test shape: 418명)의 승객에 대해서 \n",
    "\n",
    "12개 차원 (feature: 11개, label:1개)로 이루어져 있습니다.\n",
    "\n",
    "### feature (11개)\n",
    "1. Age: 나이\n",
    "2. Cabin: 객실 번호\n",
    "3. Embarked: 탑승 항구\n",
    "4. Fare: 탑승료\n",
    "5. Name: 이름\n",
    "6. Parch: 함께 탑승한 부모, 아이의 수\n",
    "7. PassengerId: 말 그대로 승객 ID\n",
    "8. Pclass: 좌석 등급\n",
    "9. Sex: 성별\n",
    "10. SibSp: 함께 탑승한 형제 자매 또는 배우자의 수\n",
    "11. Ticket: 티켓 번호\n",
    "\n",
    "### label (1개)\n",
    "12. Survived : 생존(1) 사망(0)"
   ]
  },
  {
   "cell_type": "code",
   "execution_count": 2,
   "metadata": {
    "_cell_guid": "fa24213a-1b9b-4bcb-b74d-7ae48abd2bd3",
    "_uuid": "3771a1c34df5661280534c64fa0a371a25220061",
    "execution": {
     "iopub.execute_input": "2020-11-18T17:24:13.577815Z",
     "iopub.status.busy": "2020-11-18T17:24:13.577045Z",
     "iopub.status.idle": "2020-11-18T17:24:13.590920Z",
     "shell.execute_reply": "2020-11-18T17:24:13.590333Z"
    },
    "papermill": {
     "duration": 0.066612,
     "end_time": "2020-11-18T17:24:13.591083",
     "exception": false,
     "start_time": "2020-11-18T17:24:13.524471",
     "status": "completed"
    },
    "tags": []
   },
   "outputs": [
    {
     "data": {
      "text/html": [
       "<div>\n",
       "<style scoped>\n",
       "    .dataframe tbody tr th:only-of-type {\n",
       "        vertical-align: middle;\n",
       "    }\n",
       "\n",
       "    .dataframe tbody tr th {\n",
       "        vertical-align: top;\n",
       "    }\n",
       "\n",
       "    .dataframe thead th {\n",
       "        text-align: right;\n",
       "    }\n",
       "</style>\n",
       "<table border=\"1\" class=\"dataframe\">\n",
       "  <thead>\n",
       "    <tr style=\"text-align: right;\">\n",
       "      <th></th>\n",
       "      <th>PassengerId</th>\n",
       "      <th>Survived</th>\n",
       "      <th>Pclass</th>\n",
       "      <th>Name</th>\n",
       "      <th>Sex</th>\n",
       "      <th>Age</th>\n",
       "      <th>SibSp</th>\n",
       "      <th>Parch</th>\n",
       "      <th>Ticket</th>\n",
       "      <th>Fare</th>\n",
       "      <th>Cabin</th>\n",
       "      <th>Embarked</th>\n",
       "    </tr>\n",
       "  </thead>\n",
       "  <tbody>\n",
       "    <tr>\n",
       "      <th>1304</th>\n",
       "      <td>1305</td>\n",
       "      <td>NaN</td>\n",
       "      <td>3</td>\n",
       "      <td>Spector, Mr. Woolf</td>\n",
       "      <td>male</td>\n",
       "      <td>NaN</td>\n",
       "      <td>0</td>\n",
       "      <td>0</td>\n",
       "      <td>A.5. 3236</td>\n",
       "      <td>8.0500</td>\n",
       "      <td>NaN</td>\n",
       "      <td>S</td>\n",
       "    </tr>\n",
       "    <tr>\n",
       "      <th>1305</th>\n",
       "      <td>1306</td>\n",
       "      <td>NaN</td>\n",
       "      <td>1</td>\n",
       "      <td>Oliva y Ocana, Dona. Fermina</td>\n",
       "      <td>female</td>\n",
       "      <td>39.0</td>\n",
       "      <td>0</td>\n",
       "      <td>0</td>\n",
       "      <td>PC 17758</td>\n",
       "      <td>108.9000</td>\n",
       "      <td>C105</td>\n",
       "      <td>C</td>\n",
       "    </tr>\n",
       "    <tr>\n",
       "      <th>1306</th>\n",
       "      <td>1307</td>\n",
       "      <td>NaN</td>\n",
       "      <td>3</td>\n",
       "      <td>Saether, Mr. Simon Sivertsen</td>\n",
       "      <td>male</td>\n",
       "      <td>38.5</td>\n",
       "      <td>0</td>\n",
       "      <td>0</td>\n",
       "      <td>SOTON/O.Q. 3101262</td>\n",
       "      <td>7.2500</td>\n",
       "      <td>NaN</td>\n",
       "      <td>S</td>\n",
       "    </tr>\n",
       "    <tr>\n",
       "      <th>1307</th>\n",
       "      <td>1308</td>\n",
       "      <td>NaN</td>\n",
       "      <td>3</td>\n",
       "      <td>Ware, Mr. Frederick</td>\n",
       "      <td>male</td>\n",
       "      <td>NaN</td>\n",
       "      <td>0</td>\n",
       "      <td>0</td>\n",
       "      <td>359309</td>\n",
       "      <td>8.0500</td>\n",
       "      <td>NaN</td>\n",
       "      <td>S</td>\n",
       "    </tr>\n",
       "    <tr>\n",
       "      <th>1308</th>\n",
       "      <td>1309</td>\n",
       "      <td>NaN</td>\n",
       "      <td>3</td>\n",
       "      <td>Peter, Master. Michael J</td>\n",
       "      <td>male</td>\n",
       "      <td>NaN</td>\n",
       "      <td>1</td>\n",
       "      <td>1</td>\n",
       "      <td>2668</td>\n",
       "      <td>22.3583</td>\n",
       "      <td>NaN</td>\n",
       "      <td>C</td>\n",
       "    </tr>\n",
       "  </tbody>\n",
       "</table>\n",
       "</div>"
      ],
      "text/plain": [
       "      PassengerId  Survived  Pclass                          Name     Sex  \\\n",
       "1304         1305       NaN       3            Spector, Mr. Woolf    male   \n",
       "1305         1306       NaN       1  Oliva y Ocana, Dona. Fermina  female   \n",
       "1306         1307       NaN       3  Saether, Mr. Simon Sivertsen    male   \n",
       "1307         1308       NaN       3           Ware, Mr. Frederick    male   \n",
       "1308         1309       NaN       3      Peter, Master. Michael J    male   \n",
       "\n",
       "       Age  SibSp  Parch              Ticket      Fare Cabin Embarked  \n",
       "1304   NaN      0      0           A.5. 3236    8.0500   NaN        S  \n",
       "1305  39.0      0      0            PC 17758  108.9000  C105        C  \n",
       "1306  38.5      0      0  SOTON/O.Q. 3101262    7.2500   NaN        S  \n",
       "1307   NaN      0      0              359309    8.0500   NaN        S  \n",
       "1308   NaN      1      1                2668   22.3583   NaN        C  "
      ]
     },
     "execution_count": 2,
     "metadata": {},
     "output_type": "execute_result"
    }
   ],
   "source": [
    "data.tail()"
   ]
  },
  {
   "cell_type": "markdown",
   "metadata": {
    "papermill": {
     "duration": 0.036081,
     "end_time": "2020-11-18T17:24:13.664354",
     "exception": false,
     "start_time": "2020-11-18T17:24:13.628273",
     "status": "completed"
    },
    "tags": []
   },
   "source": [
    "숫자 데이터는 6개 (Age,Fare,Parch,PassengerId,Pclass,SibSp,Survived)입니다."
   ]
  },
  {
   "cell_type": "code",
   "execution_count": 3,
   "metadata": {
    "_cell_guid": "fa3c69dd-5dbe-44cd-b596-650a21adc1fe",
    "_uuid": "af265600a585d9e4d13cc4f612368977cb406d8a",
    "execution": {
     "iopub.execute_input": "2020-11-18T17:24:13.746739Z",
     "iopub.status.busy": "2020-11-18T17:24:13.745902Z",
     "iopub.status.idle": "2020-11-18T17:24:13.782316Z",
     "shell.execute_reply": "2020-11-18T17:24:13.781653Z"
    },
    "papermill": {
     "duration": 0.080835,
     "end_time": "2020-11-18T17:24:13.782450",
     "exception": false,
     "start_time": "2020-11-18T17:24:13.701615",
     "status": "completed"
    },
    "tags": []
   },
   "outputs": [
    {
     "data": {
      "text/html": [
       "<div>\n",
       "<style scoped>\n",
       "    .dataframe tbody tr th:only-of-type {\n",
       "        vertical-align: middle;\n",
       "    }\n",
       "\n",
       "    .dataframe tbody tr th {\n",
       "        vertical-align: top;\n",
       "    }\n",
       "\n",
       "    .dataframe thead th {\n",
       "        text-align: right;\n",
       "    }\n",
       "</style>\n",
       "<table border=\"1\" class=\"dataframe\">\n",
       "  <thead>\n",
       "    <tr style=\"text-align: right;\">\n",
       "      <th></th>\n",
       "      <th>PassengerId</th>\n",
       "      <th>Survived</th>\n",
       "      <th>Pclass</th>\n",
       "      <th>Age</th>\n",
       "      <th>SibSp</th>\n",
       "      <th>Parch</th>\n",
       "      <th>Fare</th>\n",
       "    </tr>\n",
       "  </thead>\n",
       "  <tbody>\n",
       "    <tr>\n",
       "      <th>count</th>\n",
       "      <td>1309.000000</td>\n",
       "      <td>891.000000</td>\n",
       "      <td>1309.000000</td>\n",
       "      <td>1046.000000</td>\n",
       "      <td>1309.000000</td>\n",
       "      <td>1309.000000</td>\n",
       "      <td>1308.000000</td>\n",
       "    </tr>\n",
       "    <tr>\n",
       "      <th>mean</th>\n",
       "      <td>655.000000</td>\n",
       "      <td>0.383838</td>\n",
       "      <td>2.294882</td>\n",
       "      <td>29.881138</td>\n",
       "      <td>0.498854</td>\n",
       "      <td>0.385027</td>\n",
       "      <td>33.295479</td>\n",
       "    </tr>\n",
       "    <tr>\n",
       "      <th>std</th>\n",
       "      <td>378.020061</td>\n",
       "      <td>0.486592</td>\n",
       "      <td>0.837836</td>\n",
       "      <td>14.413493</td>\n",
       "      <td>1.041658</td>\n",
       "      <td>0.865560</td>\n",
       "      <td>51.758668</td>\n",
       "    </tr>\n",
       "    <tr>\n",
       "      <th>min</th>\n",
       "      <td>1.000000</td>\n",
       "      <td>0.000000</td>\n",
       "      <td>1.000000</td>\n",
       "      <td>0.170000</td>\n",
       "      <td>0.000000</td>\n",
       "      <td>0.000000</td>\n",
       "      <td>0.000000</td>\n",
       "    </tr>\n",
       "    <tr>\n",
       "      <th>25%</th>\n",
       "      <td>328.000000</td>\n",
       "      <td>0.000000</td>\n",
       "      <td>2.000000</td>\n",
       "      <td>21.000000</td>\n",
       "      <td>0.000000</td>\n",
       "      <td>0.000000</td>\n",
       "      <td>7.895800</td>\n",
       "    </tr>\n",
       "    <tr>\n",
       "      <th>50%</th>\n",
       "      <td>655.000000</td>\n",
       "      <td>0.000000</td>\n",
       "      <td>3.000000</td>\n",
       "      <td>28.000000</td>\n",
       "      <td>0.000000</td>\n",
       "      <td>0.000000</td>\n",
       "      <td>14.454200</td>\n",
       "    </tr>\n",
       "    <tr>\n",
       "      <th>75%</th>\n",
       "      <td>982.000000</td>\n",
       "      <td>1.000000</td>\n",
       "      <td>3.000000</td>\n",
       "      <td>39.000000</td>\n",
       "      <td>1.000000</td>\n",
       "      <td>0.000000</td>\n",
       "      <td>31.275000</td>\n",
       "    </tr>\n",
       "    <tr>\n",
       "      <th>max</th>\n",
       "      <td>1309.000000</td>\n",
       "      <td>1.000000</td>\n",
       "      <td>3.000000</td>\n",
       "      <td>80.000000</td>\n",
       "      <td>8.000000</td>\n",
       "      <td>9.000000</td>\n",
       "      <td>512.329200</td>\n",
       "    </tr>\n",
       "  </tbody>\n",
       "</table>\n",
       "</div>"
      ],
      "text/plain": [
       "       PassengerId    Survived       Pclass          Age        SibSp  \\\n",
       "count  1309.000000  891.000000  1309.000000  1046.000000  1309.000000   \n",
       "mean    655.000000    0.383838     2.294882    29.881138     0.498854   \n",
       "std     378.020061    0.486592     0.837836    14.413493     1.041658   \n",
       "min       1.000000    0.000000     1.000000     0.170000     0.000000   \n",
       "25%     328.000000    0.000000     2.000000    21.000000     0.000000   \n",
       "50%     655.000000    0.000000     3.000000    28.000000     0.000000   \n",
       "75%     982.000000    1.000000     3.000000    39.000000     1.000000   \n",
       "max    1309.000000    1.000000     3.000000    80.000000     8.000000   \n",
       "\n",
       "             Parch         Fare  \n",
       "count  1309.000000  1308.000000  \n",
       "mean      0.385027    33.295479  \n",
       "std       0.865560    51.758668  \n",
       "min       0.000000     0.000000  \n",
       "25%       0.000000     7.895800  \n",
       "50%       0.000000    14.454200  \n",
       "75%       0.000000    31.275000  \n",
       "max       9.000000   512.329200  "
      ]
     },
     "execution_count": 3,
     "metadata": {},
     "output_type": "execute_result"
    }
   ],
   "source": [
    "data.describe()"
   ]
  },
  {
   "cell_type": "markdown",
   "metadata": {
    "papermill": {
     "duration": 0.037274,
     "end_time": "2020-11-18T17:24:13.857140",
     "exception": false,
     "start_time": "2020-11-18T17:24:13.819866",
     "status": "completed"
    },
    "tags": []
   },
   "source": [
    "카테고리 데이터는 5개(Cabin,Embarked,Name,Sex,Ticket)입니다."
   ]
  },
  {
   "cell_type": "code",
   "execution_count": 4,
   "metadata": {
    "_cell_guid": "44a9dd0e-fadb-4206-93ec-b4b8b1985fc1",
    "_uuid": "4901cdb169d47a62e416d94bdb8c466b63b91a4e",
    "execution": {
     "iopub.execute_input": "2020-11-18T17:24:13.942399Z",
     "iopub.status.busy": "2020-11-18T17:24:13.941558Z",
     "iopub.status.idle": "2020-11-18T17:24:13.983434Z",
     "shell.execute_reply": "2020-11-18T17:24:13.982633Z"
    },
    "papermill": {
     "duration": 0.088243,
     "end_time": "2020-11-18T17:24:13.983566",
     "exception": false,
     "start_time": "2020-11-18T17:24:13.895323",
     "status": "completed"
    },
    "tags": []
   },
   "outputs": [
    {
     "data": {
      "text/html": [
       "<div>\n",
       "<style scoped>\n",
       "    .dataframe tbody tr th:only-of-type {\n",
       "        vertical-align: middle;\n",
       "    }\n",
       "\n",
       "    .dataframe tbody tr th {\n",
       "        vertical-align: top;\n",
       "    }\n",
       "\n",
       "    .dataframe thead th {\n",
       "        text-align: right;\n",
       "    }\n",
       "</style>\n",
       "<table border=\"1\" class=\"dataframe\">\n",
       "  <thead>\n",
       "    <tr style=\"text-align: right;\">\n",
       "      <th></th>\n",
       "      <th>Name</th>\n",
       "      <th>Sex</th>\n",
       "      <th>Ticket</th>\n",
       "      <th>Cabin</th>\n",
       "      <th>Embarked</th>\n",
       "    </tr>\n",
       "  </thead>\n",
       "  <tbody>\n",
       "    <tr>\n",
       "      <th>count</th>\n",
       "      <td>1309</td>\n",
       "      <td>1309</td>\n",
       "      <td>1309</td>\n",
       "      <td>295</td>\n",
       "      <td>1307</td>\n",
       "    </tr>\n",
       "    <tr>\n",
       "      <th>unique</th>\n",
       "      <td>1307</td>\n",
       "      <td>2</td>\n",
       "      <td>929</td>\n",
       "      <td>186</td>\n",
       "      <td>3</td>\n",
       "    </tr>\n",
       "    <tr>\n",
       "      <th>top</th>\n",
       "      <td>Kelly, Mr. James</td>\n",
       "      <td>male</td>\n",
       "      <td>CA. 2343</td>\n",
       "      <td>C23 C25 C27</td>\n",
       "      <td>S</td>\n",
       "    </tr>\n",
       "    <tr>\n",
       "      <th>freq</th>\n",
       "      <td>2</td>\n",
       "      <td>843</td>\n",
       "      <td>11</td>\n",
       "      <td>6</td>\n",
       "      <td>914</td>\n",
       "    </tr>\n",
       "  </tbody>\n",
       "</table>\n",
       "</div>"
      ],
      "text/plain": [
       "                    Name   Sex    Ticket        Cabin Embarked\n",
       "count               1309  1309      1309          295     1307\n",
       "unique              1307     2       929          186        3\n",
       "top     Kelly, Mr. James  male  CA. 2343  C23 C25 C27        S\n",
       "freq                   2   843        11            6      914"
      ]
     },
     "execution_count": 4,
     "metadata": {},
     "output_type": "execute_result"
    }
   ],
   "source": [
    "data.describe(include=['O'])"
   ]
  },
  {
   "cell_type": "markdown",
   "metadata": {
    "_cell_guid": "5df10c4c-e0c1-43ca-ac64-d785a2885b5c",
    "_uuid": "5aae054a6fc814a936eab084f467a86a3b647138",
    "papermill": {
     "duration": 0.039067,
     "end_time": "2020-11-18T17:24:14.061795",
     "exception": false,
     "start_time": "2020-11-18T17:24:14.022728",
     "status": "completed"
    },
    "tags": []
   },
   "source": [
    "# 3. 데이터 전처리"
   ]
  },
  {
   "cell_type": "code",
   "execution_count": 5,
   "metadata": {
    "_cell_guid": "8e52f7fc-c14f-4d52-bfdb-ec3a7d8e5b2d",
    "_uuid": "e61556f1295ce641bf8770ffa22b62b0b661c940",
    "execution": {
     "iopub.execute_input": "2020-11-18T17:24:14.149481Z",
     "iopub.status.busy": "2020-11-18T17:24:14.148205Z",
     "iopub.status.idle": "2020-11-18T17:24:14.151939Z",
     "shell.execute_reply": "2020-11-18T17:24:14.151340Z"
    },
    "papermill": {
     "duration": 0.051953,
     "end_time": "2020-11-18T17:24:14.152097",
     "exception": false,
     "start_time": "2020-11-18T17:24:14.100144",
     "status": "completed"
    },
    "tags": []
   },
   "outputs": [],
   "source": [
    "Survived = data.Survived\n",
    "\n",
    "def join_survived_count(x,y,xName='x',yName='y'):\n",
    "    tmp1 = pd.DataFrame({xName:x,yName:y})\n",
    "    tmp1 = tmp1.groupby(yName).mean().sort_values(by=xName)\n",
    "    tmp2 = y.value_counts().sort_values().to_frame()\n",
    "    tmp2.columns = ['Count']\n",
    "    tmp2.index.name = yName\n",
    "    return(tmp1.join(tmp2))"
   ]
  },
  {
   "cell_type": "markdown",
   "metadata": {
    "papermill": {
     "duration": 0.038536,
     "end_time": "2020-11-18T17:24:14.229371",
     "exception": false,
     "start_time": "2020-11-18T17:24:14.190835",
     "status": "completed"
    },
    "tags": []
   },
   "source": [
    "## 3.1. Pclass: 좌석 등급\n",
    "NA 값: 존재하지 않음.\n",
    "\n",
    "값 범위: 1,2,3\n",
    "\n",
    "1등급일수록 생존확률 증가"
   ]
  },
  {
   "cell_type": "code",
   "execution_count": 6,
   "metadata": {
    "_cell_guid": "01eea37e-0fd1-47f3-822f-25675a1c19d1",
    "_uuid": "fe8d28b9a3066b9640cf005473520d4814b983e6",
    "execution": {
     "iopub.execute_input": "2020-11-18T17:24:14.320049Z",
     "iopub.status.busy": "2020-11-18T17:24:14.319221Z",
     "iopub.status.idle": "2020-11-18T17:24:14.329679Z",
     "shell.execute_reply": "2020-11-18T17:24:14.328872Z"
    },
    "papermill": {
     "duration": 0.061624,
     "end_time": "2020-11-18T17:24:14.329813",
     "exception": false,
     "start_time": "2020-11-18T17:24:14.268189",
     "status": "completed"
    },
    "tags": []
   },
   "outputs": [
    {
     "name": "stdout",
     "output_type": "stream",
     "text": [
      "        Survived  Count\n",
      "Pclass                 \n",
      "3       0.242363    709\n",
      "2       0.472826    277\n",
      "1       0.629630    323\n"
     ]
    }
   ],
   "source": [
    "Pclass = data.Pclass\n",
    "print(join_survived_count(Survived,Pclass,xName='Survived',yName='Pclass'))"
   ]
  },
  {
   "cell_type": "markdown",
   "metadata": {
    "papermill": {
     "duration": 0.039124,
     "end_time": "2020-11-18T17:24:14.407808",
     "exception": false,
     "start_time": "2020-11-18T17:24:14.368684",
     "status": "completed"
    },
    "tags": []
   },
   "source": [
    "## 3.2. Cabin: 객실 번호\n",
    "NA 값: 1014개 존재 (N 값으로 대입)\n",
    "\n",
    "Survived값에 따라서 7개의 그룹으로 분리함"
   ]
  },
  {
   "cell_type": "code",
   "execution_count": 7,
   "metadata": {
    "_cell_guid": "0fb2227e-e2f5-47dc-b714-1f51d0c9f8cb",
    "_uuid": "9eb7d5ed766f69499487dc9699351a874535f33e",
    "execution": {
     "iopub.execute_input": "2020-11-18T17:24:14.513523Z",
     "iopub.status.busy": "2020-11-18T17:24:14.503316Z",
     "iopub.status.idle": "2020-11-18T17:24:14.524139Z",
     "shell.execute_reply": "2020-11-18T17:24:14.523334Z"
    },
    "papermill": {
     "duration": 0.076109,
     "end_time": "2020-11-18T17:24:14.524268",
     "exception": false,
     "start_time": "2020-11-18T17:24:14.448159",
     "status": "completed"
    },
    "tags": []
   },
   "outputs": [
    {
     "name": "stdout",
     "output_type": "stream",
     "text": [
      "       Survived  Count\n",
      "Cabin                 \n",
      "T      0.000000      1\n",
      "N      0.299854   1014\n",
      "A      0.466667     22\n",
      "G      0.500000      5\n",
      "C      0.593220     94\n",
      "F      0.615385     21\n",
      "B      0.744681     65\n",
      "E      0.750000     41\n",
      "D      0.757576     46\n",
      "       Survived  Count\n",
      "Cabin                 \n",
      "0      0.299419   1015\n",
      "1      0.473684     27\n",
      "2      0.593220     94\n",
      "3      0.615385     21\n",
      "4      0.744681     65\n",
      "5      0.750000     41\n",
      "6      0.757576     46\n"
     ]
    }
   ],
   "source": [
    "Cabin = data.Cabin.fillna('N')\n",
    "Cabin = Cabin.str.extract('(^\\D)+', expand=False)\n",
    "print(join_survived_count(Survived,Cabin,xName='Survived',yName='Cabin'))\n",
    "\n",
    "Cabin = Cabin.map({'N':0,'T':0,'A':1,'G':1,'C':2,'F':3,'B':4,'E':5,'D':6})\n",
    "print(join_survived_count(Survived,Cabin,xName='Survived',yName='Cabin'))"
   ]
  },
  {
   "cell_type": "markdown",
   "metadata": {
    "papermill": {
     "duration": 0.039407,
     "end_time": "2020-11-18T17:24:14.603258",
     "exception": false,
     "start_time": "2020-11-18T17:24:14.563851",
     "status": "completed"
    },
    "tags": []
   },
   "source": [
    "## 3.3. Embarked: 탑승 항구\n",
    "NA 값: 2개 존재 (C값으로 대입)\n",
    "\n",
    "One-hot 인코딩 수행함"
   ]
  },
  {
   "cell_type": "code",
   "execution_count": 8,
   "metadata": {
    "_cell_guid": "cff5ee36-db20-4189-b570-29a11f575747",
    "_uuid": "07e775b1f2e242e32000f1fdd1e1d68782ada203",
    "execution": {
     "iopub.execute_input": "2020-11-18T17:24:14.710390Z",
     "iopub.status.busy": "2020-11-18T17:24:14.709396Z",
     "iopub.status.idle": "2020-11-18T17:24:14.715395Z",
     "shell.execute_reply": "2020-11-18T17:24:14.714512Z"
    },
    "papermill": {
     "duration": 0.07234,
     "end_time": "2020-11-18T17:24:14.715565",
     "exception": false,
     "start_time": "2020-11-18T17:24:14.643225",
     "status": "completed"
    },
    "tags": []
   },
   "outputs": [
    {
     "name": "stdout",
     "output_type": "stream",
     "text": [
      "          Survived  Count\n",
      "Embarked                 \n",
      "S         0.336957    914\n",
      "Q         0.389610    123\n",
      "C         0.553571    270\n",
      "N         1.000000      2\n",
      "          Survived  Count\n",
      "Embarked                 \n",
      "S         0.336957    914\n",
      "Q         0.389610    123\n",
      "C         0.558824    272\n"
     ]
    }
   ],
   "source": [
    "Embarked = data.Embarked.fillna('N')\n",
    "print(join_survived_count(Survived,Embarked,xName='Survived',yName='Embarked'))\n",
    "Embarked = data.Embarked.fillna('C')\n",
    "print(join_survived_count(Survived,Embarked,xName='Survived',yName='Embarked'))\n",
    "Embarked_ctg = pd.get_dummies(Embarked,prefix='Embarked')"
   ]
  },
  {
   "cell_type": "markdown",
   "metadata": {
    "papermill": {
     "duration": 0.039691,
     "end_time": "2020-11-18T17:24:14.796169",
     "exception": false,
     "start_time": "2020-11-18T17:24:14.756478",
     "status": "completed"
    },
    "tags": []
   },
   "source": [
    "## 3.4. Fare: 탑승료\n",
    "NA 값: 1개 존재 (해당 승객의 class(좌석등급)이 3등급임으로 3등급 median 탑승료인 8.05부여)"
   ]
  },
  {
   "cell_type": "code",
   "execution_count": 9,
   "metadata": {
    "_cell_guid": "ec345b94-375e-43ed-aed4-92838f08a5e9",
    "_uuid": "3b932f618518cc55f76e9e6332563968224062cb",
    "execution": {
     "iopub.execute_input": "2020-11-18T17:24:14.900500Z",
     "iopub.status.busy": "2020-11-18T17:24:14.899147Z",
     "iopub.status.idle": "2020-11-18T17:24:14.922334Z",
     "shell.execute_reply": "2020-11-18T17:24:14.922937Z"
    },
    "papermill": {
     "duration": 0.083004,
     "end_time": "2020-11-18T17:24:14.923148",
     "exception": false,
     "start_time": "2020-11-18T17:24:14.840144",
     "status": "completed"
    },
    "tags": []
   },
   "outputs": [
    {
     "name": "stdout",
     "output_type": "stream",
     "text": [
      "      Survived  Count\n",
      "Fare                 \n",
      "0.0   0.215768    360\n",
      "0.2   0.311475    357\n",
      "0.6   0.319149     66\n",
      "0.4   0.451282    281\n",
      "0.8   0.648649    161\n",
      "1.0   0.735849     84\n"
     ]
    }
   ],
   "source": [
    "Fare = data.Fare.copy(deep=True)\n",
    "\n",
    "# NaN 값(1개 승객)을 Pclass(좌석등급)의 median 탑승료로 부여함\n",
    "tmp = pd.DataFrame({'Pclass':Pclass,'Fare':Fare})\n",
    "guess_Fare = tmp.groupby(['Pclass']).Fare.median()\n",
    "for i in tmp.Pclass.unique():\n",
    "    Fare.loc[(Fare.isnull()) & (tmp.Pclass == i)] = guess_Fare.loc[i]\n",
    "\n",
    "# Fare의 그룹을 나눔\n",
    "Fare.loc[ Fare <= 8] = 0\n",
    "Fare.loc[(Fare > 8)  & (Fare <= 16),] = 1\n",
    "Fare.loc[(Fare > 16) & (Fare <= 32),] = 2\n",
    "Fare.loc[(Fare > 32) & (Fare <= 48),] = 3\n",
    "Fare.loc[(Fare > 48) & (Fare <= 100)] = 4\n",
    "Fare.loc[ Fare > 100] = 5\n",
    "Fare -= Fare.min()\n",
    "Fare /= Fare.max()\n",
    "print(join_survived_count(Survived,Fare,xName='Survived',yName='Fare'))"
   ]
  },
  {
   "cell_type": "markdown",
   "metadata": {
    "papermill": {
     "duration": 0.040819,
     "end_time": "2020-11-18T17:24:15.005493",
     "exception": false,
     "start_time": "2020-11-18T17:24:14.964674",
     "status": "completed"
    },
    "tags": []
   },
   "source": [
    "## 3.5. Parch: 함께 탑승한 부모, 아이의 수\n",
    "\n",
    "많은 가족이 있는 사람은 생존률이 낮다.\n",
    "\n",
    "SibSp, Parch를 조합하여 Family Size를 계산한다."
   ]
  },
  {
   "cell_type": "code",
   "execution_count": 10,
   "metadata": {
    "_cell_guid": "5b320c7c-c105-41c2-9505-7e55e8323f72",
    "_uuid": "fc9d855b3e90e4a183d06c783868eca9b46075b9",
    "execution": {
     "iopub.execute_input": "2020-11-18T17:24:15.111170Z",
     "iopub.status.busy": "2020-11-18T17:24:15.108494Z",
     "iopub.status.idle": "2020-11-18T17:24:15.121361Z",
     "shell.execute_reply": "2020-11-18T17:24:15.121958Z"
    },
    "papermill": {
     "duration": 0.075027,
     "end_time": "2020-11-18T17:24:15.122137",
     "exception": false,
     "start_time": "2020-11-18T17:24:15.047110",
     "status": "completed"
    },
    "tags": []
   },
   "outputs": [
    {
     "name": "stdout",
     "output_type": "stream",
     "text": [
      "            Survived  Count\n",
      "FamilySize                 \n",
      "7           0.000000      8\n",
      "10          0.000000     11\n",
      "5           0.136364     25\n",
      "4           0.200000     22\n",
      "0           0.303538    790\n",
      "6           0.333333     16\n",
      "1           0.552795    235\n",
      "2           0.578431    159\n",
      "3           0.724138     43\n",
      "            Survived  Count\n",
      "FamilySize                 \n",
      "4           0.000000     19\n",
      "3           0.204082     63\n",
      "0           0.303538    790\n",
      "1           0.562738    394\n",
      "2           0.724138     43\n"
     ]
    }
   ],
   "source": [
    "FamilySize = pd.Series(data.SibSp + data.Parch, name='FamilySize')\n",
    "print(join_survived_count(Survived,FamilySize,xName='Survived',yName='FamilySize'))\n",
    "FamilySize = FamilySize.map({0:0,1:1,2:1,3:2,4:3,5:3,6:3,7:4,8:4,9:4,10:4})\n",
    "print(join_survived_count(Survived,FamilySize,xName='Survived',yName='FamilySize'))\n",
    "\n",
    "SibSp = pd.Series(data.SibSp, name='SibSp')\n",
    "Parch = pd.Series(data.Parch, name='Parch')"
   ]
  },
  {
   "cell_type": "markdown",
   "metadata": {
    "papermill": {
     "duration": 0.041088,
     "end_time": "2020-11-18T17:24:15.204596",
     "exception": false,
     "start_time": "2020-11-18T17:24:15.163508",
     "status": "completed"
    },
    "tags": []
   },
   "source": [
    "## 3.6. Name: 이름\n",
    "\n",
    "가족의 경우, 생존률이 연관되어 있다.\n",
    "\n",
    "성(Surnames)에 대해서 가족이 생존한 여부를 조사한다."
   ]
  },
  {
   "cell_type": "code",
   "execution_count": 11,
   "metadata": {
    "_cell_guid": "5b4526d4-f87d-4903-91bb-3146c7cd60b1",
    "_uuid": "af3af335ea05d2c3d0c4ed3c6eacaf9218a1dfb4",
    "execution": {
     "iopub.execute_input": "2020-11-18T17:24:15.360710Z",
     "iopub.status.busy": "2020-11-18T17:24:15.323419Z",
     "iopub.status.idle": "2020-11-18T17:24:15.838241Z",
     "shell.execute_reply": "2020-11-18T17:24:15.837568Z"
    },
    "papermill": {
     "duration": 0.592627,
     "end_time": "2020-11-18T17:24:15.838370",
     "exception": false,
     "start_time": "2020-11-18T17:24:15.245743",
     "status": "completed"
    },
    "tags": []
   },
   "outputs": [
    {
     "name": "stdout",
     "output_type": "stream",
     "text": [
      "                   Survived  Count\n",
      "hasFamilySurvived                 \n",
      "0                  0.326057   1067\n",
      "1                  0.651899    242\n"
     ]
    }
   ],
   "source": [
    "Surname = data.Name.str.extract('(^\\D+),', expand=False)\n",
    "tmp = pd.DataFrame({'Surname':Surname,'name':data.Name})\n",
    "N = 1309\n",
    "hasFamilySurvived = pd.Series(np.zeros([N]),name='hasFamilySurvived')\n",
    "\n",
    "for i in range(0,N):\n",
    "    if (FamilySize.iloc[i]==0):\n",
    "        continue\n",
    "    thisname = Surname.iloc[i]\n",
    "    index = Survived.loc[(tmp.Surname==thisname) & (Survived==1)].index\n",
    "    if (i in index):\n",
    "        index = index.drop(i)\n",
    "    if (index.empty==False):\n",
    "        hasFamilySurvived.iloc[i]=1\n",
    "\n",
    "hasFamilySurvived=hasFamilySurvived.map({0.0:0,1.0:1})\n",
    "print(join_survived_count(Survived,hasFamilySurvived,xName='Survived',yName='hasFamilySurvived'))"
   ]
  },
  {
   "cell_type": "markdown",
   "metadata": {
    "_cell_guid": "f1c214ab-c476-43ff-9386-161a83a8cf17",
    "_uuid": "7bb3d3f8bf64a7e63a5d3e83375f33693b0af1db",
    "papermill": {
     "duration": 0.042048,
     "end_time": "2020-11-18T17:24:15.923580",
     "exception": false,
     "start_time": "2020-11-18T17:24:15.881532",
     "status": "completed"
    },
    "tags": []
   },
   "source": [
    "## 3.7 신분\n",
    "\n",
    "5개의 신분을 구분함.\n",
    "\n",
    "1. Capt, Col, Rev :    군인/목사 (생존률이 낮음)\n",
    "2. Mr:               성인 남성(생존률 낮음)\n",
    "3. Dr, Major, Master, Sir: 전문직?\n",
    "4. Miss, Mlle, Lady: 젊은 여성\n",
    "5. Mrs, Mme, Ms, Countess : 나이든 여성(생존률 높음)"
   ]
  },
  {
   "cell_type": "code",
   "execution_count": 12,
   "metadata": {
    "_cell_guid": "8576abe5-5303-45d5-b238-846f5b8047e3",
    "_uuid": "7485269dbb28fc94bcf779e63f79decc9475ba63",
    "execution": {
     "iopub.execute_input": "2020-11-18T17:24:16.027557Z",
     "iopub.status.busy": "2020-11-18T17:24:16.024282Z",
     "iopub.status.idle": "2020-11-18T17:24:16.048014Z",
     "shell.execute_reply": "2020-11-18T17:24:16.048600Z"
    },
    "papermill": {
     "duration": 0.082225,
     "end_time": "2020-11-18T17:24:16.048805",
     "exception": false,
     "start_time": "2020-11-18T17:24:15.966580",
     "status": "completed"
    },
    "tags": []
   },
   "outputs": [
    {
     "name": "stdout",
     "output_type": "stream",
     "text": [
      "          Survived  Count\n",
      "Title                    \n",
      "Capt      0.000000      1\n",
      "Don       0.000000      1\n",
      "Jonkheer  0.000000      1\n",
      "Rev       0.000000      8\n",
      "Mr        0.156673    757\n",
      "Dr        0.428571      8\n",
      "Col       0.500000      4\n",
      "Major     0.500000      2\n",
      "Master    0.575000     61\n",
      "Miss      0.697802    260\n",
      "Mrs       0.792000    197\n",
      "Mlle      1.000000      2\n",
      "Mme       1.000000      1\n",
      "Countess  1.000000      1\n",
      "Ms        1.000000      2\n",
      "Lady      1.000000      1\n",
      "Sir       1.000000      1\n",
      "Dona           NaN      1\n",
      "       Survived  Count\n",
      "Title                 \n",
      "0.0    0.100000     14\n",
      "1.0    0.156673    757\n",
      "2.0    0.560000     72\n",
      "3.0    0.702703    264\n",
      "4.0    0.796875    201\n"
     ]
    }
   ],
   "source": [
    "Title = data.Name.str.extract(' ([A-Za-z]+)\\.', expand=False)\n",
    "print(join_survived_count(Survived,Title,xName='Survived',yName='Title'))\n",
    "Title.iloc[1305]\n",
    "Title = Title.map({'Capt':0,'Col':0,'Rev':0,\n",
    "           'Mr':1,                   \n",
    "           'Dr':2,'Major':2,'Master':2,'Sir':2,\n",
    "           'Miss':3,'Mlle':3,'Lady':3,'Dona':3,'Jonkheer':0,\n",
    "           'Mrs':4,'Mme':4,'Ms':4,'Countess':4})\n",
    "print(join_survived_count(Survived,Title,xName='Survived',yName='Title'))\n",
    "Title_ctg = pd.get_dummies(Title,prefix='Title')"
   ]
  },
  {
   "cell_type": "markdown",
   "metadata": {
    "papermill": {
     "duration": 0.044026,
     "end_time": "2020-11-18T17:24:16.136099",
     "exception": false,
     "start_time": "2020-11-18T17:24:16.092073",
     "status": "completed"
    },
    "tags": []
   },
   "source": [
    "## 3.8. PassengerId: 말 그대로 승객 ID\n",
    "\n",
    "사용 안함"
   ]
  },
  {
   "cell_type": "markdown",
   "metadata": {
    "papermill": {
     "duration": 0.042861,
     "end_time": "2020-11-18T17:24:16.221868",
     "exception": false,
     "start_time": "2020-11-18T17:24:16.179007",
     "status": "completed"
    },
    "tags": []
   },
   "source": [
    "## 3.9. Sex: 성별\n",
    "\n",
    "남자(male:1)는 여자(female:0)보다 생존률이 낮다."
   ]
  },
  {
   "cell_type": "code",
   "execution_count": 13,
   "metadata": {
    "_cell_guid": "c332940e-17bf-4b24-9871-abb738c55926",
    "_uuid": "cf11abcba7968fe06d68d6b4b128eb0938aec2e0",
    "execution": {
     "iopub.execute_input": "2020-11-18T17:24:16.326156Z",
     "iopub.status.busy": "2020-11-18T17:24:16.325313Z",
     "iopub.status.idle": "2020-11-18T17:24:16.328510Z",
     "shell.execute_reply": "2020-11-18T17:24:16.329224Z"
    },
    "papermill": {
     "duration": 0.063964,
     "end_time": "2020-11-18T17:24:16.329392",
     "exception": false,
     "start_time": "2020-11-18T17:24:16.265428",
     "status": "completed"
    },
    "tags": []
   },
   "outputs": [
    {
     "name": "stdout",
     "output_type": "stream",
     "text": [
      "     Survived  Count\n",
      "Sex                 \n",
      "1    0.188908    843\n",
      "0    0.742038    466\n"
     ]
    }
   ],
   "source": [
    "Sex = data.Sex.map({'male':1,'female':0})\n",
    "print(join_survived_count(Survived,Sex,xName='Survived',yName='Sex'))"
   ]
  },
  {
   "cell_type": "markdown",
   "metadata": {
    "papermill": {
     "duration": 0.044891,
     "end_time": "2020-11-18T17:24:16.419571",
     "exception": false,
     "start_time": "2020-11-18T17:24:16.374680",
     "status": "completed"
    },
    "tags": []
   },
   "source": [
    "## 3.10. SibSp: 함께 탑승한 형제 자매 또는 배우자의 수\n",
    "\n",
    "혼자 여행하는 사람은 생존률이 낮다.\n",
    "\n",
    "(Parch/SibSp을 이용해서 혼자 탑승한 여부를 계산)"
   ]
  },
  {
   "cell_type": "code",
   "execution_count": 14,
   "metadata": {
    "_cell_guid": "dce88786-79da-4adf-b33d-230017a5b915",
    "_uuid": "b793e62b2f0ec6da3d695196471dd1cd4cdc74d3",
    "execution": {
     "iopub.execute_input": "2020-11-18T17:24:16.526705Z",
     "iopub.status.busy": "2020-11-18T17:24:16.525653Z",
     "iopub.status.idle": "2020-11-18T17:24:16.529497Z",
     "shell.execute_reply": "2020-11-18T17:24:16.530106Z"
    },
    "papermill": {
     "duration": 0.065345,
     "end_time": "2020-11-18T17:24:16.530269",
     "exception": false,
     "start_time": "2020-11-18T17:24:16.464924",
     "status": "completed"
    },
    "tags": []
   },
   "outputs": [
    {
     "name": "stdout",
     "output_type": "stream",
     "text": [
      "         Survived  Count\n",
      "isalone                 \n",
      "1        0.303538    790\n",
      "0        0.505650    519\n"
     ]
    }
   ],
   "source": [
    "isalone = pd.Series(((data.Parch + data.SibSp)==0).astype('int'),name='isalone')\n",
    "print(join_survived_count(Survived,isalone,xName='Survived',yName='isalone'))"
   ]
  },
  {
   "cell_type": "markdown",
   "metadata": {
    "papermill": {
     "duration": 0.044762,
     "end_time": "2020-11-18T17:24:16.620662",
     "exception": false,
     "start_time": "2020-11-18T17:24:16.575900",
     "status": "completed"
    },
    "tags": []
   },
   "source": [
    "## 3.10. Ticket: 티켓 번호\n",
    "\n",
    "생존률에 따라서 5개 그룹으로 나눔"
   ]
  },
  {
   "cell_type": "code",
   "execution_count": 15,
   "metadata": {
    "_cell_guid": "f025d56e-c0df-4c87-86f4-d8f52601f9cf",
    "_uuid": "2012157702e39b1e91c4c70f4c31bbb84736efda",
    "execution": {
     "iopub.execute_input": "2020-11-18T17:24:16.739681Z",
     "iopub.status.busy": "2020-11-18T17:24:16.738504Z",
     "iopub.status.idle": "2020-11-18T17:24:16.753275Z",
     "shell.execute_reply": "2020-11-18T17:24:16.752624Z"
    },
    "papermill": {
     "duration": 0.08767,
     "end_time": "2020-11-18T17:24:16.753415",
     "exception": false,
     "start_time": "2020-11-18T17:24:16.665745",
     "status": "completed"
    },
    "tags": []
   },
   "outputs": [
    {
     "name": "stdout",
     "output_type": "stream",
     "text": [
      "        Survived  Count\n",
      "Ticket                 \n",
      "4       0.000000      7\n",
      "5       0.000000      3\n",
      "21      0.000000      4\n",
      "32      0.000000      4\n",
      "26      0.000000      1\n",
      "34      0.140625    174\n",
      "31      0.176471     27\n",
      "38      0.200000     16\n",
      "35      0.200000     34\n",
      "37      0.240000     33\n",
      "310     0.272727     60\n",
      "36      0.303030     50\n",
      "0       0.314607    266\n",
      "6       0.333333      4\n",
      "2       0.377778     70\n",
      "39      0.416667     15\n",
      "23      0.444444     51\n",
      "25      0.500000     16\n",
      "24      0.500000     39\n",
      "11      0.513889    101\n",
      "33      0.533333     27\n",
      "3       0.558140     66\n",
      "1       0.651007    227\n",
      "22      0.750000     14\n",
      "        Survived  Count\n",
      "Ticket                 \n",
      "0       0.127660    193\n",
      "1       0.248322    220\n",
      "2       0.346715    406\n",
      "3       0.523529    249\n",
      "4       0.656051    241\n"
     ]
    }
   ],
   "source": [
    "Ticket = data.Ticket.str.extract('(\\d+)$', expand=False)\n",
    "Ticket.fillna(0,inplace=True)\n",
    "Ticket = (Ticket.astype('int')/10000).astype('int')\n",
    "tmp = pd.DataFrame({'Survived':Survived,'Ticket':Ticket})\n",
    "tmp.groupby('Ticket').Survived.mean().sort_values()\n",
    "print(join_survived_count(Survived,Ticket,xName='Survived',yName='Ticket'))\n",
    "Ticket = Ticket.map({\\\n",
    "            4:0,5:0,21:0,32:0,26:0,34:0,\n",
    "            31:1,38:1,35:1,37:1,310:1,36:1,\n",
    "            0:2,6:2,2:2,39:2,23:2,\n",
    "            25:3,24:3,11:3,33:3,3:3,\n",
    "            1:4,22:4})\n",
    "print(join_survived_count(Survived,Ticket,xName='Survived',yName='Ticket'))"
   ]
  },
  {
   "cell_type": "markdown",
   "metadata": {
    "papermill": {
     "duration": 0.052515,
     "end_time": "2020-11-18T17:24:16.851141",
     "exception": false,
     "start_time": "2020-11-18T17:24:16.798626",
     "status": "completed"
    },
    "tags": []
   },
   "source": [
    "## 3.11. Age: 나이\n",
    "\n",
    "나이가 적은 사람(어린이)는 성인에 비해 생존률이 높다.\n",
    "\n",
    "나이를 모르는 경우(NA값)은 다른 데이터를 참조하여 유추함."
   ]
  },
  {
   "cell_type": "code",
   "execution_count": 16,
   "metadata": {
    "_cell_guid": "cb2cae98-2a02-43a6-a154-596182a7e0c8",
    "_uuid": "4c8d1345aa54cadb1c64bbf25d3b7a63a2ec49a8",
    "execution": {
     "iopub.execute_input": "2020-11-18T17:24:16.986017Z",
     "iopub.status.busy": "2020-11-18T17:24:16.981622Z",
     "iopub.status.idle": "2020-11-18T17:24:18.230793Z",
     "shell.execute_reply": "2020-11-18T17:24:18.231472Z"
    },
    "papermill": {
     "duration": 1.324072,
     "end_time": "2020-11-18T17:24:18.231649",
     "exception": false,
     "start_time": "2020-11-18T17:24:16.907577",
     "status": "completed"
    },
    "scrolled": false,
    "tags": []
   },
   "outputs": [
    {
     "name": "stdout",
     "output_type": "stream",
     "text": [
      "     Survived  Count\n",
      "Age                 \n",
      "5.0  0.090909     13\n",
      "2.0  0.369942    524\n",
      "3.0  0.404255    269\n",
      "1.0  0.413043     62\n",
      "4.0  0.434783    106\n",
      "0.0  0.666667     72\n",
      "Age training score  64.91\n",
      "     Survived  Count\n",
      "Age                 \n",
      "5.0  0.090909     13\n",
      "2.0  0.343882    720\n",
      "1.0  0.345455     73\n",
      "3.0  0.410138    310\n",
      "4.0  0.436620    109\n",
      "0.0  0.619048     84\n"
     ]
    }
   ],
   "source": [
    "Age = data.Age.copy(deep=True)\n",
    "Age.loc[(data.Age <= 8) & (data.Age.notna())] = 0\n",
    "Age.loc[(data.Age > 8)  & (data.Age <= 16) & (data.Age.notna())] = 1\n",
    "Age.loc[(data.Age > 16) & (data.Age <= 32) & (data.Age.notna())] = 2\n",
    "Age.loc[(data.Age > 32) & (data.Age <= 48) & (data.Age.notna())] = 3\n",
    "Age.loc[(data.Age > 48) & (data.Age <= 64) & (data.Age.notna())] = 4\n",
    "Age.loc[(data.Age > 64) & (data.Age.notna())] = 5\n",
    "print(join_survived_count(Survived,Age,xName='Survived',yName='Age'))\n",
    "\n",
    "Age_X = pd.concat([Sex,Pclass,Fare,Title_ctg,Embarked_ctg,FamilySize,SibSp,Parch,isalone],axis=1)\n",
    "Age_Y = Age.copy(deep=True)\n",
    "Age_X_train = Age_X.loc[data.Age.notna()]\n",
    "Age_Y_train = Age_Y.loc[data.Age.notna()]\n",
    "Age_X_test = Age_X.loc[data.Age.isnull()]\n",
    "\n",
    "from sklearn.svm import SVC, LinearSVC\n",
    "AgeModel = SVC(C=5)\n",
    "AgeModel.fit(Age_X_train, Age_Y_train)\n",
    "print('Age training score ', round(AgeModel.score(Age_X_train, Age_Y_train) * 100, 2))\n",
    "Age_Y_pred = AgeModel.predict(Age_X_test)\n",
    "Age.loc[data.Age.isnull()] = Age_Y_pred\n",
    "\n",
    "print(join_survived_count(Survived,Age,xName='Survived',yName='Age'))\n",
    "Age -= Age.min()\n",
    "Age /= Age.max()"
   ]
  },
  {
   "cell_type": "markdown",
   "metadata": {
    "_cell_guid": "a94ae636-641b-4a7e-adf4-dee72bc35869",
    "_uuid": "720ffd7c6e8aab94dd6095d1d6e805522d96b9b6",
    "papermill": {
     "duration": 0.04652,
     "end_time": "2020-11-18T17:24:18.325113",
     "exception": false,
     "start_time": "2020-11-18T17:24:18.278593",
     "status": "completed"
    },
    "tags": []
   },
   "source": [
    "# 4. 최종 데이터\n",
    "\n",
    "최종 데이터는 1309명 X 19 차원(Survived, Pclass, Age, Sex, Fare, Title_0, Title_1, Title_2, Title_3, Title_4, Embarked_C, Embarked_Q, Embarked_S, FamilySize, SibSp, Parch, hasFamilySurvived, Cabin, Ticket)으로 구성"
   ]
  },
  {
   "cell_type": "code",
   "execution_count": 17,
   "metadata": {
    "execution": {
     "iopub.execute_input": "2020-11-18T17:24:18.434888Z",
     "iopub.status.busy": "2020-11-18T17:24:18.433822Z",
     "iopub.status.idle": "2020-11-18T17:24:18.442787Z",
     "shell.execute_reply": "2020-11-18T17:24:18.442196Z"
    },
    "papermill": {
     "duration": 0.071119,
     "end_time": "2020-11-18T17:24:18.442923",
     "exception": false,
     "start_time": "2020-11-18T17:24:18.371804",
     "status": "completed"
    },
    "tags": []
   },
   "outputs": [
    {
     "name": "stdout",
     "output_type": "stream",
     "text": [
      "shapes:  (891, 18) (891,) (418, 18) (418,)\n"
     ]
    }
   ],
   "source": [
    "data_pruned = pd.concat([Survived,Pclass,Age,Sex,Fare,Title_ctg,Embarked_ctg,\n",
    "                         FamilySize,SibSp,Parch,hasFamilySurvived,Cabin,Ticket],axis=1)\n",
    "data_pruned.head()\n",
    "\n",
    "train = data_pruned.iloc[0:891]\n",
    "test = data_pruned.iloc[891:1309]\n",
    "train_X = train.loc[:,'Pclass':]\n",
    "train_Y = train.loc[:,'Survived']\n",
    "test_X = test.loc[:,'Pclass':]\n",
    "test_Y = test.loc[:,'Survived']\n",
    "print('shapes: ',train_X.shape,train_Y.shape,test_X.shape,test_Y.shape)"
   ]
  },
  {
   "cell_type": "markdown",
   "metadata": {
    "papermill": {
     "duration": 0.046263,
     "end_time": "2020-11-18T17:24:18.536070",
     "exception": false,
     "start_time": "2020-11-18T17:24:18.489807",
     "status": "completed"
    },
    "tags": []
   },
   "source": [
    "# 5. 머신러닝 모델 학습\n",
    "\n",
    "14개 머신모델에 대해서 StratifiedKFold를 사용하여 10회 반복 학습"
   ]
  },
  {
   "cell_type": "code",
   "execution_count": 18,
   "metadata": {
    "execution": {
     "iopub.execute_input": "2020-11-18T17:24:18.691043Z",
     "iopub.status.busy": "2020-11-18T17:24:18.654404Z",
     "iopub.status.idle": "2020-11-18T17:27:11.362305Z",
     "shell.execute_reply": "2020-11-18T17:27:11.362915Z"
    },
    "papermill": {
     "duration": 172.780349,
     "end_time": "2020-11-18T17:27:11.363142",
     "exception": false,
     "start_time": "2020-11-18T17:24:18.582793",
     "status": "completed"
    },
    "tags": []
   },
   "outputs": [],
   "source": [
    "from sklearn.model_selection import StratifiedKFold\n",
    "from sklearn.model_selection import StratifiedShuffleSplit\n",
    "from sklearn.metrics import accuracy_score\n",
    "import time\n",
    "import warnings\n",
    "warnings.filterwarnings(action='ignore', category=DeprecationWarning)\n",
    "\n",
    "results=[]\n",
    "i=0\n",
    "random_state=1000\n",
    "skf = StratifiedKFold(n_splits=10)\n",
    "#skf = StratifiedShuffleSplit(n_splits=10, test_size=0.2, random_state=0)\n",
    "for train_idx, validation_idx in skf.split(train_X,train_Y):\n",
    "    x_train = train_X.iloc[train_idx,:]\n",
    "    y_train = train_Y.iloc[train_idx]\n",
    "    x_validation = train_X.iloc[validation_idx,:]\n",
    "    y_validation = train_Y.iloc[validation_idx]\n",
    "    # 1. Logistic regression    \n",
    "    from sklearn.linear_model import LogisticRegression\n",
    "    model = LogisticRegression(max_iter=1000, random_state=random_state)\n",
    "    start_time = time.time()\n",
    "    model.fit(x_train, y_train)\n",
    "    training_time = time.time() - start_time\n",
    "    y_pred_train = model.predict(x_train)\n",
    "    y_pred_validation = model.predict(x_validation)\n",
    "    accuracy_train = accuracy_score(y_train, y_pred_train)\n",
    "    accuracy_validation = accuracy_score(y_validation, y_pred_validation)\n",
    "    results.append([i,'LogisticRegression',accuracy_train,accuracy_validation,training_time])\n",
    "    # 2. Decision tree\n",
    "    from sklearn.tree import DecisionTreeClassifier\n",
    "    model = DecisionTreeClassifier()\n",
    "    start_time = time.time()\n",
    "    model.fit(x_train, y_train)\n",
    "    training_time = time.time() - start_time\n",
    "    y_pred_train = model.predict(x_train)\n",
    "    y_pred_validation = model.predict(x_validation)\n",
    "    accuracy_train = accuracy_score(y_train, y_pred_train)\n",
    "    accuracy_validation = accuracy_score(y_validation, y_pred_validation)\n",
    "    results.append([i,'DecisionTree',accuracy_train,accuracy_validation,training_time])\n",
    "    # 3. Support vector machine\n",
    "    from sklearn.svm import SVC\n",
    "    model = SVC()\n",
    "    start_time = time.time()\n",
    "    model.fit(x_train, y_train)\n",
    "    training_time = time.time() - start_time\n",
    "    y_pred_train = model.predict(x_train)\n",
    "    y_pred_validation = model.predict(x_validation)\n",
    "    accuracy_train = accuracy_score(y_train, y_pred_train)\n",
    "    accuracy_validation = accuracy_score(y_validation, y_pred_validation)\n",
    "    results.append([i,'SupportVectorMachine',accuracy_train,accuracy_validation,training_time])\n",
    "    # 4. Gaussian naive bayes\n",
    "    from sklearn.naive_bayes import GaussianNB\n",
    "    model = GaussianNB()\n",
    "    start_time = time.time()\n",
    "    model.fit(x_train, y_train)\n",
    "    training_time = time.time() - start_time\n",
    "    y_pred_train = model.predict(x_train)\n",
    "    y_pred_validation = model.predict(x_validation)\n",
    "    accuracy_train = accuracy_score(y_train, y_pred_train)\n",
    "    accuracy_validation = accuracy_score(y_validation, y_pred_validation)\n",
    "    results.append([i,'GaussianNaiveBayes',accuracy_train,accuracy_validation,training_time])\n",
    "    # 5. K nearest neighbor\n",
    "    from sklearn.neighbors import KNeighborsClassifier\n",
    "    model = KNeighborsClassifier()\n",
    "    start_time = time.time()\n",
    "    model.fit(x_train, y_train)\n",
    "    training_time = time.time() - start_time\n",
    "    y_pred_train = model.predict(x_train)\n",
    "    y_pred_validation = model.predict(x_validation)\n",
    "    accuracy_train = accuracy_score(y_train, y_pred_train)\n",
    "    accuracy_validation = accuracy_score(y_validation, y_pred_validation)\n",
    "    results.append([i,'KNearestNeighbor',accuracy_train,accuracy_validation,training_time]) \n",
    "    # 6. Random forest\n",
    "    from sklearn.ensemble import RandomForestClassifier\n",
    "    model = RandomForestClassifier(n_estimators=1000, random_state=random_state)\n",
    "    start_time = time.time()\n",
    "    model.fit(x_train, y_train)\n",
    "    training_time = time.time() - start_time\n",
    "    y_pred_train = model.predict(x_train)\n",
    "    y_pred_validation = model.predict(x_validation)\n",
    "    accuracy_train = accuracy_score(y_train, y_pred_train)\n",
    "    accuracy_validation = accuracy_score(y_validation, y_pred_validation)\n",
    "    results.append([i,'RandomForest',accuracy_train,accuracy_validation,training_time])\n",
    "    # 7. Gradient boosing\n",
    "    from sklearn.ensemble import GradientBoostingClassifier\n",
    "    model = GradientBoostingClassifier(n_estimators=1000, random_state=random_state)\n",
    "    start_time = time.time()\n",
    "    model.fit(x_train, y_train)\n",
    "    training_time = time.time() - start_time\n",
    "    y_pred_train = model.predict(x_train)\n",
    "    y_pred_validation = model.predict(x_validation)\n",
    "    accuracy_train = accuracy_score(y_train, y_pred_train)\n",
    "    accuracy_validation = accuracy_score(y_validation, y_pred_validation)\n",
    "    results.append([i,'GradientBoosing',accuracy_train,accuracy_validation,training_time])\n",
    "    # 8. Neural network\n",
    "    from sklearn.neural_network import MLPClassifier\n",
    "    model = MLPClassifier(max_iter=1000, random_state=random_state)\n",
    "    start_time = time.time()\n",
    "    model.fit(x_train, y_train)\n",
    "    training_time = time.time() - start_time\n",
    "    y_pred_train = model.predict(x_train)\n",
    "    y_pred_validation = model.predict(x_validation)\n",
    "    accuracy_train = accuracy_score(y_train, y_pred_train)\n",
    "    accuracy_validation = accuracy_score(y_validation, y_pred_validation)\n",
    "    results.append([i,'NeuralNetwork',accuracy_train,accuracy_validation,training_time])\n",
    "    # 9. Bagging classifier\n",
    "    from sklearn.ensemble import BaggingClassifier\n",
    "    model = BaggingClassifier(n_estimators=1000, random_state=random_state)\n",
    "    start_time = time.time()\n",
    "    model.fit(x_train, y_train)\n",
    "    training_time = time.time() - start_time\n",
    "    y_pred_train = model.predict(x_train)\n",
    "    y_pred_validation = model.predict(x_validation)\n",
    "    accuracy_train = accuracy_score(y_train, y_pred_train)\n",
    "    accuracy_validation = accuracy_score(y_validation, y_pred_validation)\n",
    "    results.append([i,'BaggingClassifier',accuracy_train,accuracy_validation,training_time])\n",
    "    # 10. Extra trees\n",
    "    from sklearn.ensemble import ExtraTreesClassifier\n",
    "    model = ExtraTreesClassifier(n_estimators=1000, random_state=random_state)\n",
    "    start_time = time.time()\n",
    "    model.fit(x_train, y_train)\n",
    "    training_time = time.time() - start_time\n",
    "    y_pred_train = model.predict(x_train)\n",
    "    y_pred_validation = model.predict(x_validation)\n",
    "    accuracy_train = accuracy_score(y_train, y_pred_train)\n",
    "    accuracy_validation = accuracy_score(y_validation, y_pred_validation)\n",
    "    results.append([i,'ExtraTrees',accuracy_train,accuracy_validation,training_time])    \n",
    "    # 11. Adaboost\n",
    "    from sklearn.ensemble import AdaBoostClassifier\n",
    "    model = AdaBoostClassifier(n_estimators=1000, random_state=random_state)\n",
    "    start_time = time.time()\n",
    "    model.fit(x_train, y_train)\n",
    "    training_time = time.time() - start_time\n",
    "    y_pred_train = model.predict(x_train)\n",
    "    y_pred_validation = model.predict(x_validation)\n",
    "    accuracy_train = accuracy_score(y_train, y_pred_train)\n",
    "    accuracy_validation = accuracy_score(y_validation, y_pred_validation)\n",
    "    results.append([i,'AdaBoost',accuracy_train,accuracy_validation,training_time])    \n",
    "    # 12. XGboost\n",
    "    from xgboost import XGBClassifier\n",
    "    model = XGBClassifier(n_estimators=1000, random_state=random_state)\n",
    "    start_time = time.time()\n",
    "    model.fit(x_train, y_train)\n",
    "    training_time = time.time() - start_time\n",
    "    y_pred_train = model.predict(x_train)\n",
    "    y_pred_validation = model.predict(x_validation)\n",
    "    accuracy_train = accuracy_score(y_train, y_pred_train)\n",
    "    accuracy_validation = accuracy_score(y_validation, y_pred_validation)\n",
    "    results.append([i,'XGBoost',accuracy_train,accuracy_validation,training_time])    \n",
    "    # 13. LightGBM\n",
    "    from lightgbm import LGBMClassifier\n",
    "    model = LGBMClassifier(n_estimators=1000, random_state=random_state)\n",
    "    start_time = time.time()\n",
    "    model.fit(x_train, y_train)\n",
    "    training_time = time.time() - start_time\n",
    "    y_pred_train = model.predict(x_train)\n",
    "    y_pred_validation = model.predict(x_validation)\n",
    "    accuracy_train = accuracy_score(y_train, y_pred_train)\n",
    "    accuracy_validation = accuracy_score(y_validation, y_pred_validation)\n",
    "    results.append([i,'lightGBM',accuracy_train,accuracy_validation,training_time])    \n",
    "    # 14. Catboost\n",
    "    from catboost import CatBoostClassifier\n",
    "    model = CatBoostClassifier(n_estimators=1000, verbose=False, random_state=random_state)\n",
    "    start_time = time.time()\n",
    "    model.fit(x_train, y_train)\n",
    "    training_time = time.time() - start_time\n",
    "    y_pred_train = model.predict(x_train)\n",
    "    y_pred_validation = model.predict(x_validation)\n",
    "    accuracy_train = accuracy_score(y_train, y_pred_train)\n",
    "    accuracy_validation = accuracy_score(y_validation, y_pred_validation)\n",
    "    results.append([i,'CatBoostClassifier',accuracy_train,accuracy_validation,training_time])    \n",
    "    i+=1"
   ]
  },
  {
   "cell_type": "markdown",
   "metadata": {
    "papermill": {
     "duration": 0.047897,
     "end_time": "2020-11-18T17:27:11.460242",
     "exception": false,
     "start_time": "2020-11-18T17:27:11.412345",
     "status": "completed"
    },
    "tags": []
   },
   "source": [
    "# 6. 학습 결과 분석"
   ]
  },
  {
   "cell_type": "markdown",
   "metadata": {
    "papermill": {
     "duration": 0.047846,
     "end_time": "2020-11-18T17:27:11.556292",
     "exception": false,
     "start_time": "2020-11-18T17:27:11.508446",
     "status": "completed"
    },
    "tags": []
   },
   "source": [
    "## 6.1. 결과 테이블 확인"
   ]
  },
  {
   "cell_type": "code",
   "execution_count": 19,
   "metadata": {
    "execution": {
     "iopub.execute_input": "2020-11-18T17:27:11.673569Z",
     "iopub.status.busy": "2020-11-18T17:27:11.672691Z",
     "iopub.status.idle": "2020-11-18T17:27:11.678118Z",
     "shell.execute_reply": "2020-11-18T17:27:11.677404Z"
    },
    "papermill": {
     "duration": 0.073084,
     "end_time": "2020-11-18T17:27:11.678246",
     "exception": false,
     "start_time": "2020-11-18T17:27:11.605162",
     "status": "completed"
    },
    "tags": []
   },
   "outputs": [
    {
     "data": {
      "text/html": [
       "<div>\n",
       "<style scoped>\n",
       "    .dataframe tbody tr th:only-of-type {\n",
       "        vertical-align: middle;\n",
       "    }\n",
       "\n",
       "    .dataframe tbody tr th {\n",
       "        vertical-align: top;\n",
       "    }\n",
       "\n",
       "    .dataframe thead th {\n",
       "        text-align: right;\n",
       "    }\n",
       "</style>\n",
       "<table border=\"1\" class=\"dataframe\">\n",
       "  <thead>\n",
       "    <tr style=\"text-align: right;\">\n",
       "      <th></th>\n",
       "      <th>iter</th>\n",
       "      <th>method</th>\n",
       "      <th>accuracy_train</th>\n",
       "      <th>accuracy_validation</th>\n",
       "      <th>training_time</th>\n",
       "    </tr>\n",
       "  </thead>\n",
       "  <tbody>\n",
       "    <tr>\n",
       "      <th>120</th>\n",
       "      <td>8</td>\n",
       "      <td>BaggingClassifier</td>\n",
       "      <td>0.931421</td>\n",
       "      <td>0.865169</td>\n",
       "      <td>3.884473</td>\n",
       "    </tr>\n",
       "    <tr>\n",
       "      <th>121</th>\n",
       "      <td>8</td>\n",
       "      <td>ExtraTrees</td>\n",
       "      <td>0.931421</td>\n",
       "      <td>0.831461</td>\n",
       "      <td>2.081072</td>\n",
       "    </tr>\n",
       "    <tr>\n",
       "      <th>122</th>\n",
       "      <td>8</td>\n",
       "      <td>AdaBoost</td>\n",
       "      <td>0.836658</td>\n",
       "      <td>0.865169</td>\n",
       "      <td>2.415645</td>\n",
       "    </tr>\n",
       "    <tr>\n",
       "      <th>123</th>\n",
       "      <td>8</td>\n",
       "      <td>XGBoost</td>\n",
       "      <td>0.931421</td>\n",
       "      <td>0.831461</td>\n",
       "      <td>0.575037</td>\n",
       "    </tr>\n",
       "    <tr>\n",
       "      <th>124</th>\n",
       "      <td>8</td>\n",
       "      <td>lightGBM</td>\n",
       "      <td>0.931421</td>\n",
       "      <td>0.831461</td>\n",
       "      <td>0.591957</td>\n",
       "    </tr>\n",
       "    <tr>\n",
       "      <th>125</th>\n",
       "      <td>8</td>\n",
       "      <td>CatBoostClassifier</td>\n",
       "      <td>0.901496</td>\n",
       "      <td>0.876404</td>\n",
       "      <td>1.127719</td>\n",
       "    </tr>\n",
       "    <tr>\n",
       "      <th>126</th>\n",
       "      <td>9</td>\n",
       "      <td>LogisticRegression</td>\n",
       "      <td>0.841646</td>\n",
       "      <td>0.853933</td>\n",
       "      <td>0.037739</td>\n",
       "    </tr>\n",
       "    <tr>\n",
       "      <th>127</th>\n",
       "      <td>9</td>\n",
       "      <td>DecisionTree</td>\n",
       "      <td>0.940150</td>\n",
       "      <td>0.820225</td>\n",
       "      <td>0.004174</td>\n",
       "    </tr>\n",
       "    <tr>\n",
       "      <th>128</th>\n",
       "      <td>9</td>\n",
       "      <td>SupportVectorMachine</td>\n",
       "      <td>0.849127</td>\n",
       "      <td>0.853933</td>\n",
       "      <td>0.024009</td>\n",
       "    </tr>\n",
       "    <tr>\n",
       "      <th>129</th>\n",
       "      <td>9</td>\n",
       "      <td>GaussianNaiveBayes</td>\n",
       "      <td>0.801746</td>\n",
       "      <td>0.842697</td>\n",
       "      <td>0.004951</td>\n",
       "    </tr>\n",
       "    <tr>\n",
       "      <th>130</th>\n",
       "      <td>9</td>\n",
       "      <td>KNearestNeighbor</td>\n",
       "      <td>0.866584</td>\n",
       "      <td>0.820225</td>\n",
       "      <td>0.005859</td>\n",
       "    </tr>\n",
       "    <tr>\n",
       "      <th>131</th>\n",
       "      <td>9</td>\n",
       "      <td>RandomForest</td>\n",
       "      <td>0.940150</td>\n",
       "      <td>0.831461</td>\n",
       "      <td>2.592850</td>\n",
       "    </tr>\n",
       "    <tr>\n",
       "      <th>132</th>\n",
       "      <td>9</td>\n",
       "      <td>GradientBoosing</td>\n",
       "      <td>0.935162</td>\n",
       "      <td>0.831461</td>\n",
       "      <td>1.271622</td>\n",
       "    </tr>\n",
       "    <tr>\n",
       "      <th>133</th>\n",
       "      <td>9</td>\n",
       "      <td>NeuralNetwork</td>\n",
       "      <td>0.847880</td>\n",
       "      <td>0.876404</td>\n",
       "      <td>0.598624</td>\n",
       "    </tr>\n",
       "    <tr>\n",
       "      <th>134</th>\n",
       "      <td>9</td>\n",
       "      <td>BaggingClassifier</td>\n",
       "      <td>0.940150</td>\n",
       "      <td>0.831461</td>\n",
       "      <td>3.782673</td>\n",
       "    </tr>\n",
       "    <tr>\n",
       "      <th>135</th>\n",
       "      <td>9</td>\n",
       "      <td>ExtraTrees</td>\n",
       "      <td>0.940150</td>\n",
       "      <td>0.831461</td>\n",
       "      <td>2.062010</td>\n",
       "    </tr>\n",
       "    <tr>\n",
       "      <th>136</th>\n",
       "      <td>9</td>\n",
       "      <td>AdaBoost</td>\n",
       "      <td>0.846633</td>\n",
       "      <td>0.853933</td>\n",
       "      <td>2.426585</td>\n",
       "    </tr>\n",
       "    <tr>\n",
       "      <th>137</th>\n",
       "      <td>9</td>\n",
       "      <td>XGBoost</td>\n",
       "      <td>0.940150</td>\n",
       "      <td>0.808989</td>\n",
       "      <td>0.583528</td>\n",
       "    </tr>\n",
       "    <tr>\n",
       "      <th>138</th>\n",
       "      <td>9</td>\n",
       "      <td>lightGBM</td>\n",
       "      <td>0.940150</td>\n",
       "      <td>0.820225</td>\n",
       "      <td>0.595859</td>\n",
       "    </tr>\n",
       "    <tr>\n",
       "      <th>139</th>\n",
       "      <td>9</td>\n",
       "      <td>CatBoostClassifier</td>\n",
       "      <td>0.910224</td>\n",
       "      <td>0.831461</td>\n",
       "      <td>1.178369</td>\n",
       "    </tr>\n",
       "  </tbody>\n",
       "</table>\n",
       "</div>"
      ],
      "text/plain": [
       "     iter                method  accuracy_train  accuracy_validation  \\\n",
       "120     8     BaggingClassifier        0.931421             0.865169   \n",
       "121     8            ExtraTrees        0.931421             0.831461   \n",
       "122     8              AdaBoost        0.836658             0.865169   \n",
       "123     8               XGBoost        0.931421             0.831461   \n",
       "124     8              lightGBM        0.931421             0.831461   \n",
       "125     8    CatBoostClassifier        0.901496             0.876404   \n",
       "126     9    LogisticRegression        0.841646             0.853933   \n",
       "127     9          DecisionTree        0.940150             0.820225   \n",
       "128     9  SupportVectorMachine        0.849127             0.853933   \n",
       "129     9    GaussianNaiveBayes        0.801746             0.842697   \n",
       "130     9      KNearestNeighbor        0.866584             0.820225   \n",
       "131     9          RandomForest        0.940150             0.831461   \n",
       "132     9       GradientBoosing        0.935162             0.831461   \n",
       "133     9         NeuralNetwork        0.847880             0.876404   \n",
       "134     9     BaggingClassifier        0.940150             0.831461   \n",
       "135     9            ExtraTrees        0.940150             0.831461   \n",
       "136     9              AdaBoost        0.846633             0.853933   \n",
       "137     9               XGBoost        0.940150             0.808989   \n",
       "138     9              lightGBM        0.940150             0.820225   \n",
       "139     9    CatBoostClassifier        0.910224             0.831461   \n",
       "\n",
       "     training_time  \n",
       "120       3.884473  \n",
       "121       2.081072  \n",
       "122       2.415645  \n",
       "123       0.575037  \n",
       "124       0.591957  \n",
       "125       1.127719  \n",
       "126       0.037739  \n",
       "127       0.004174  \n",
       "128       0.024009  \n",
       "129       0.004951  \n",
       "130       0.005859  \n",
       "131       2.592850  \n",
       "132       1.271622  \n",
       "133       0.598624  \n",
       "134       3.782673  \n",
       "135       2.062010  \n",
       "136       2.426585  \n",
       "137       0.583528  \n",
       "138       0.595859  \n",
       "139       1.178369  "
      ]
     },
     "execution_count": 19,
     "metadata": {},
     "output_type": "execute_result"
    }
   ],
   "source": [
    "df_results =pd.DataFrame(data=results, \n",
    "                columns= ['iter','method','accuracy_train','accuracy_validation','training_time'])\n",
    "df_results.tail(20)"
   ]
  },
  {
   "cell_type": "markdown",
   "metadata": {
    "papermill": {
     "duration": 0.048132,
     "end_time": "2020-11-18T17:27:11.774526",
     "exception": false,
     "start_time": "2020-11-18T17:27:11.726394",
     "status": "completed"
    },
    "tags": []
   },
   "source": [
    "## 6.2. 결과 순위 확인"
   ]
  },
  {
   "cell_type": "code",
   "execution_count": 20,
   "metadata": {
    "execution": {
     "iopub.execute_input": "2020-11-18T17:27:11.886149Z",
     "iopub.status.busy": "2020-11-18T17:27:11.882798Z",
     "iopub.status.idle": "2020-11-18T17:27:11.919329Z",
     "shell.execute_reply": "2020-11-18T17:27:11.918721Z"
    },
    "papermill": {
     "duration": 0.09564,
     "end_time": "2020-11-18T17:27:11.919502",
     "exception": false,
     "start_time": "2020-11-18T17:27:11.823862",
     "status": "completed"
    },
    "tags": []
   },
   "outputs": [
    {
     "data": {
      "text/html": [
       "<div>\n",
       "<style scoped>\n",
       "    .dataframe tbody tr th:only-of-type {\n",
       "        vertical-align: middle;\n",
       "    }\n",
       "\n",
       "    .dataframe tbody tr th {\n",
       "        vertical-align: top;\n",
       "    }\n",
       "\n",
       "    .dataframe thead th {\n",
       "        text-align: right;\n",
       "    }\n",
       "</style>\n",
       "<table border=\"1\" class=\"dataframe\">\n",
       "  <thead>\n",
       "    <tr style=\"text-align: right;\">\n",
       "      <th>iter</th>\n",
       "      <th>method</th>\n",
       "      <th>0</th>\n",
       "      <th>1</th>\n",
       "      <th>2</th>\n",
       "      <th>3</th>\n",
       "      <th>4</th>\n",
       "      <th>5</th>\n",
       "      <th>6</th>\n",
       "      <th>7</th>\n",
       "      <th>8</th>\n",
       "      <th>9</th>\n",
       "      <th>mean</th>\n",
       "    </tr>\n",
       "  </thead>\n",
       "  <tbody>\n",
       "    <tr>\n",
       "      <th>5</th>\n",
       "      <td>GaussianNaiveBayes</td>\n",
       "      <td>0.777778</td>\n",
       "      <td>0.764045</td>\n",
       "      <td>0.775281</td>\n",
       "      <td>0.786517</td>\n",
       "      <td>0.797753</td>\n",
       "      <td>0.775281</td>\n",
       "      <td>0.808989</td>\n",
       "      <td>0.617978</td>\n",
       "      <td>0.876404</td>\n",
       "      <td>0.842697</td>\n",
       "      <td>0.782272</td>\n",
       "    </tr>\n",
       "    <tr>\n",
       "      <th>12</th>\n",
       "      <td>XGBoost</td>\n",
       "      <td>0.788889</td>\n",
       "      <td>0.820225</td>\n",
       "      <td>0.730337</td>\n",
       "      <td>0.842697</td>\n",
       "      <td>0.797753</td>\n",
       "      <td>0.786517</td>\n",
       "      <td>0.808989</td>\n",
       "      <td>0.853933</td>\n",
       "      <td>0.831461</td>\n",
       "      <td>0.808989</td>\n",
       "      <td>0.806979</td>\n",
       "    </tr>\n",
       "    <tr>\n",
       "      <th>3</th>\n",
       "      <td>DecisionTree</td>\n",
       "      <td>0.766667</td>\n",
       "      <td>0.842697</td>\n",
       "      <td>0.707865</td>\n",
       "      <td>0.853933</td>\n",
       "      <td>0.797753</td>\n",
       "      <td>0.808989</td>\n",
       "      <td>0.797753</td>\n",
       "      <td>0.831461</td>\n",
       "      <td>0.842697</td>\n",
       "      <td>0.820225</td>\n",
       "      <td>0.807004</td>\n",
       "    </tr>\n",
       "    <tr>\n",
       "      <th>13</th>\n",
       "      <td>lightGBM</td>\n",
       "      <td>0.833333</td>\n",
       "      <td>0.820225</td>\n",
       "      <td>0.730337</td>\n",
       "      <td>0.820225</td>\n",
       "      <td>0.820225</td>\n",
       "      <td>0.786517</td>\n",
       "      <td>0.797753</td>\n",
       "      <td>0.820225</td>\n",
       "      <td>0.831461</td>\n",
       "      <td>0.820225</td>\n",
       "      <td>0.808052</td>\n",
       "    </tr>\n",
       "    <tr>\n",
       "      <th>7</th>\n",
       "      <td>KNearestNeighbor</td>\n",
       "      <td>0.788889</td>\n",
       "      <td>0.775281</td>\n",
       "      <td>0.696629</td>\n",
       "      <td>0.820225</td>\n",
       "      <td>0.820225</td>\n",
       "      <td>0.842697</td>\n",
       "      <td>0.831461</td>\n",
       "      <td>0.831461</td>\n",
       "      <td>0.887640</td>\n",
       "      <td>0.820225</td>\n",
       "      <td>0.811473</td>\n",
       "    </tr>\n",
       "    <tr>\n",
       "      <th>6</th>\n",
       "      <td>GradientBoosing</td>\n",
       "      <td>0.800000</td>\n",
       "      <td>0.820225</td>\n",
       "      <td>0.752809</td>\n",
       "      <td>0.831461</td>\n",
       "      <td>0.831461</td>\n",
       "      <td>0.831461</td>\n",
       "      <td>0.820225</td>\n",
       "      <td>0.865169</td>\n",
       "      <td>0.831461</td>\n",
       "      <td>0.831461</td>\n",
       "      <td>0.821573</td>\n",
       "    </tr>\n",
       "    <tr>\n",
       "      <th>11</th>\n",
       "      <td>SupportVectorMachine</td>\n",
       "      <td>0.822222</td>\n",
       "      <td>0.786517</td>\n",
       "      <td>0.775281</td>\n",
       "      <td>0.842697</td>\n",
       "      <td>0.831461</td>\n",
       "      <td>0.808989</td>\n",
       "      <td>0.820225</td>\n",
       "      <td>0.820225</td>\n",
       "      <td>0.865169</td>\n",
       "      <td>0.853933</td>\n",
       "      <td>0.822672</td>\n",
       "    </tr>\n",
       "    <tr>\n",
       "      <th>0</th>\n",
       "      <td>AdaBoost</td>\n",
       "      <td>0.777778</td>\n",
       "      <td>0.820225</td>\n",
       "      <td>0.764045</td>\n",
       "      <td>0.865169</td>\n",
       "      <td>0.808989</td>\n",
       "      <td>0.820225</td>\n",
       "      <td>0.820225</td>\n",
       "      <td>0.842697</td>\n",
       "      <td>0.865169</td>\n",
       "      <td>0.853933</td>\n",
       "      <td>0.823845</td>\n",
       "    </tr>\n",
       "    <tr>\n",
       "      <th>9</th>\n",
       "      <td>NeuralNetwork</td>\n",
       "      <td>0.833333</td>\n",
       "      <td>0.775281</td>\n",
       "      <td>0.786517</td>\n",
       "      <td>0.853933</td>\n",
       "      <td>0.865169</td>\n",
       "      <td>0.786517</td>\n",
       "      <td>0.797753</td>\n",
       "      <td>0.842697</td>\n",
       "      <td>0.853933</td>\n",
       "      <td>0.876404</td>\n",
       "      <td>0.827154</td>\n",
       "    </tr>\n",
       "    <tr>\n",
       "      <th>10</th>\n",
       "      <td>RandomForest</td>\n",
       "      <td>0.833333</td>\n",
       "      <td>0.820225</td>\n",
       "      <td>0.719101</td>\n",
       "      <td>0.853933</td>\n",
       "      <td>0.853933</td>\n",
       "      <td>0.853933</td>\n",
       "      <td>0.831461</td>\n",
       "      <td>0.831461</td>\n",
       "      <td>0.853933</td>\n",
       "      <td>0.831461</td>\n",
       "      <td>0.828277</td>\n",
       "    </tr>\n",
       "    <tr>\n",
       "      <th>4</th>\n",
       "      <td>ExtraTrees</td>\n",
       "      <td>0.822222</td>\n",
       "      <td>0.831461</td>\n",
       "      <td>0.719101</td>\n",
       "      <td>0.865169</td>\n",
       "      <td>0.831461</td>\n",
       "      <td>0.865169</td>\n",
       "      <td>0.842697</td>\n",
       "      <td>0.853933</td>\n",
       "      <td>0.831461</td>\n",
       "      <td>0.831461</td>\n",
       "      <td>0.829413</td>\n",
       "    </tr>\n",
       "    <tr>\n",
       "      <th>1</th>\n",
       "      <td>BaggingClassifier</td>\n",
       "      <td>0.822222</td>\n",
       "      <td>0.842697</td>\n",
       "      <td>0.719101</td>\n",
       "      <td>0.842697</td>\n",
       "      <td>0.842697</td>\n",
       "      <td>0.842697</td>\n",
       "      <td>0.842697</td>\n",
       "      <td>0.865169</td>\n",
       "      <td>0.865169</td>\n",
       "      <td>0.831461</td>\n",
       "      <td>0.831660</td>\n",
       "    </tr>\n",
       "    <tr>\n",
       "      <th>8</th>\n",
       "      <td>LogisticRegression</td>\n",
       "      <td>0.822222</td>\n",
       "      <td>0.820225</td>\n",
       "      <td>0.775281</td>\n",
       "      <td>0.876404</td>\n",
       "      <td>0.842697</td>\n",
       "      <td>0.820225</td>\n",
       "      <td>0.831461</td>\n",
       "      <td>0.842697</td>\n",
       "      <td>0.876404</td>\n",
       "      <td>0.853933</td>\n",
       "      <td>0.836155</td>\n",
       "    </tr>\n",
       "    <tr>\n",
       "      <th>2</th>\n",
       "      <td>CatBoostClassifier</td>\n",
       "      <td>0.833333</td>\n",
       "      <td>0.831461</td>\n",
       "      <td>0.741573</td>\n",
       "      <td>0.876404</td>\n",
       "      <td>0.853933</td>\n",
       "      <td>0.853933</td>\n",
       "      <td>0.820225</td>\n",
       "      <td>0.853933</td>\n",
       "      <td>0.876404</td>\n",
       "      <td>0.831461</td>\n",
       "      <td>0.837266</td>\n",
       "    </tr>\n",
       "  </tbody>\n",
       "</table>\n",
       "</div>"
      ],
      "text/plain": [
       "iter                method         0         1         2         3         4  \\\n",
       "5       GaussianNaiveBayes  0.777778  0.764045  0.775281  0.786517  0.797753   \n",
       "12                 XGBoost  0.788889  0.820225  0.730337  0.842697  0.797753   \n",
       "3             DecisionTree  0.766667  0.842697  0.707865  0.853933  0.797753   \n",
       "13                lightGBM  0.833333  0.820225  0.730337  0.820225  0.820225   \n",
       "7         KNearestNeighbor  0.788889  0.775281  0.696629  0.820225  0.820225   \n",
       "6          GradientBoosing  0.800000  0.820225  0.752809  0.831461  0.831461   \n",
       "11    SupportVectorMachine  0.822222  0.786517  0.775281  0.842697  0.831461   \n",
       "0                 AdaBoost  0.777778  0.820225  0.764045  0.865169  0.808989   \n",
       "9            NeuralNetwork  0.833333  0.775281  0.786517  0.853933  0.865169   \n",
       "10            RandomForest  0.833333  0.820225  0.719101  0.853933  0.853933   \n",
       "4               ExtraTrees  0.822222  0.831461  0.719101  0.865169  0.831461   \n",
       "1        BaggingClassifier  0.822222  0.842697  0.719101  0.842697  0.842697   \n",
       "8       LogisticRegression  0.822222  0.820225  0.775281  0.876404  0.842697   \n",
       "2       CatBoostClassifier  0.833333  0.831461  0.741573  0.876404  0.853933   \n",
       "\n",
       "iter         5         6         7         8         9      mean  \n",
       "5     0.775281  0.808989  0.617978  0.876404  0.842697  0.782272  \n",
       "12    0.786517  0.808989  0.853933  0.831461  0.808989  0.806979  \n",
       "3     0.808989  0.797753  0.831461  0.842697  0.820225  0.807004  \n",
       "13    0.786517  0.797753  0.820225  0.831461  0.820225  0.808052  \n",
       "7     0.842697  0.831461  0.831461  0.887640  0.820225  0.811473  \n",
       "6     0.831461  0.820225  0.865169  0.831461  0.831461  0.821573  \n",
       "11    0.808989  0.820225  0.820225  0.865169  0.853933  0.822672  \n",
       "0     0.820225  0.820225  0.842697  0.865169  0.853933  0.823845  \n",
       "9     0.786517  0.797753  0.842697  0.853933  0.876404  0.827154  \n",
       "10    0.853933  0.831461  0.831461  0.853933  0.831461  0.828277  \n",
       "4     0.865169  0.842697  0.853933  0.831461  0.831461  0.829413  \n",
       "1     0.842697  0.842697  0.865169  0.865169  0.831461  0.831660  \n",
       "8     0.820225  0.831461  0.842697  0.876404  0.853933  0.836155  \n",
       "2     0.853933  0.820225  0.853933  0.876404  0.831461  0.837266  "
      ]
     },
     "execution_count": 20,
     "metadata": {},
     "output_type": "execute_result"
    }
   ],
   "source": [
    "import numpy as np\n",
    "df_acc_test = df_results.pivot_table(index='method', columns='iter')[\"accuracy_validation\"].reset_index()\n",
    "df_acc_test['mean']=np.mean(df_acc_test, axis=1)\n",
    "df_acc_test=df_acc_test.sort_values('mean')\n",
    "df_acc_test"
   ]
  },
  {
   "cell_type": "markdown",
   "metadata": {
    "papermill": {
     "duration": 0.048554,
     "end_time": "2020-11-18T17:27:12.017459",
     "exception": false,
     "start_time": "2020-11-18T17:27:11.968905",
     "status": "completed"
    },
    "tags": []
   },
   "source": [
    "## 6.3. 결과 통계 측정"
   ]
  },
  {
   "cell_type": "code",
   "execution_count": 21,
   "metadata": {
    "execution": {
     "iopub.execute_input": "2020-11-18T17:27:12.127531Z",
     "iopub.status.busy": "2020-11-18T17:27:12.126660Z",
     "iopub.status.idle": "2020-11-18T17:27:12.162161Z",
     "shell.execute_reply": "2020-11-18T17:27:12.163119Z"
    },
    "papermill": {
     "duration": 0.096323,
     "end_time": "2020-11-18T17:27:12.163353",
     "exception": false,
     "start_time": "2020-11-18T17:27:12.067030",
     "status": "completed"
    },
    "tags": []
   },
   "outputs": [
    {
     "name": "stdout",
     "output_type": "stream",
     "text": [
      "Best model is CatBoostClassifier. So, the others are compared to CatBoostClassifier\n",
      "GaussianNaiveBayes vs. CatBoostClassifier WilcoxonResult(statistic=4.0, pvalue=0.028401837044201694)\n",
      "XGBoost vs. CatBoostClassifier WilcoxonResult(statistic=0.0, pvalue=0.007473541540877042)\n",
      "DecisionTree vs. CatBoostClassifier WilcoxonResult(statistic=1.0, pvalue=0.00683774356850919)\n",
      "lightGBM vs. CatBoostClassifier WilcoxonResult(statistic=0.0, pvalue=0.007420961287866498)\n",
      "KNearestNeighbor vs. CatBoostClassifier WilcoxonResult(statistic=4.0, pvalue=0.0162542088976566)\n",
      "GradientBoosing vs. CatBoostClassifier WilcoxonResult(statistic=3.5, pvalue=0.041558707296959874)\n",
      "SupportVectorMachine vs. CatBoostClassifier WilcoxonResult(statistic=9.0, pvalue=0.10880943004054568)\n",
      "AdaBoost vs. CatBoostClassifier WilcoxonResult(statistic=11.0, pvalue=0.1689015887216404)\n",
      "NeuralNetwork vs. CatBoostClassifier WilcoxonResult(statistic=14.5, pvalue=0.34069844083463674)\n",
      "RandomForest vs. CatBoostClassifier WilcoxonResult(statistic=1.5, pvalue=0.05569962596664958)\n",
      "ExtraTrees vs. CatBoostClassifier WilcoxonResult(statistic=7.0, pvalue=0.2350444507531182)\n",
      "BaggingClassifier vs. CatBoostClassifier WilcoxonResult(statistic=13.5, pvalue=0.28205887576155886)\n",
      "LogisticRegression vs. CatBoostClassifier WilcoxonResult(statistic=17.0, pvalue=0.8871157967199846)\n"
     ]
    },
    {
     "name": "stderr",
     "output_type": "stream",
     "text": [
      "/opt/conda/lib/python3.7/site-packages/scipy/stats/morestats.py:2879: UserWarning: Sample size too small for normal approximation.\n",
      "  warnings.warn(\"Sample size too small for normal approximation.\")\n"
     ]
    }
   ],
   "source": [
    "import numpy as np\n",
    "from scipy import stats\n",
    "\n",
    "# 비모수적 검정(parametric test)\n",
    "print(\"Best model is {}. So, the others are compared to {}\".format(\n",
    "    df_acc_test.iloc[13,0],df_acc_test.iloc[13,0]))\n",
    "for i in range(13):\n",
    "    print(df_acc_test.iloc[i,0], 'vs.', df_acc_test.iloc[13,0],\n",
    "          stats.wilcoxon(df_acc_test.iloc[i,1:-1], df_acc_test.iloc[13,1:-1])) # Wilcoxon signed-rank test"
   ]
  },
  {
   "cell_type": "markdown",
   "metadata": {
    "papermill": {
     "duration": 0.049995,
     "end_time": "2020-11-18T17:27:12.265612",
     "exception": false,
     "start_time": "2020-11-18T17:27:12.215617",
     "status": "completed"
    },
    "tags": []
   },
   "source": [
    "## 6.4. 결과 시각화"
   ]
  },
  {
   "cell_type": "code",
   "execution_count": 22,
   "metadata": {
    "execution": {
     "iopub.execute_input": "2020-11-18T17:27:12.375469Z",
     "iopub.status.busy": "2020-11-18T17:27:12.374579Z",
     "iopub.status.idle": "2020-11-18T17:27:13.336292Z",
     "shell.execute_reply": "2020-11-18T17:27:13.335537Z"
    },
    "papermill": {
     "duration": 1.020201,
     "end_time": "2020-11-18T17:27:13.336415",
     "exception": false,
     "start_time": "2020-11-18T17:27:12.316214",
     "status": "completed"
    },
    "tags": []
   },
   "outputs": [
    {
     "data": {
      "image/png": "[encoded data removed]",
      "text/plain": [
       "<Figure size 432x288 with 1 Axes>"
      ]
     },
     "metadata": {
      "needs_background": "light"
     },
     "output_type": "display_data"
    }
   ],
   "source": [
    "import seaborn as sns\n",
    "#from statannot import add_stat_annotation\n",
    "ax = sns.barplot(x=\"method\", y=\"accuracy_validation\", data=df_results, capsize=.2, \n",
    "                 order=df_results.groupby('method').mean().sort_values('accuracy_validation').index)\n",
    "ax.set(ylim=(0.70, 0.91))\n",
    "ax.set_xticklabels(ax.get_xticklabels(),rotation=60);"
   ]
  },
  {
   "cell_type": "markdown",
   "metadata": {
    "papermill": {
     "duration": 0.051782,
     "end_time": "2020-11-18T17:27:13.440421",
     "exception": false,
     "start_time": "2020-11-18T17:27:13.388639",
     "status": "completed"
    },
    "tags": []
   },
   "source": [
    "## 7. 최고 성능 모델로 재학습\n",
    "\n",
    "최고 성능 모델이 CatBoostClassifier이므로 전체 학습데이터셋(training+validation 데이터셋)을 사용하여 재학습"
   ]
  },
  {
   "cell_type": "code",
   "execution_count": 23,
   "metadata": {
    "execution": {
     "iopub.execute_input": "2020-11-18T17:27:13.555790Z",
     "iopub.status.busy": "2020-11-18T17:27:13.554949Z",
     "iopub.status.idle": "2020-11-18T17:27:14.705215Z",
     "shell.execute_reply": "2020-11-18T17:27:14.704415Z"
    },
    "papermill": {
     "duration": 1.213208,
     "end_time": "2020-11-18T17:27:14.705353",
     "exception": false,
     "start_time": "2020-11-18T17:27:13.492145",
     "status": "completed"
    },
    "tags": []
   },
   "outputs": [],
   "source": [
    "from catboost import CatBoostClassifier\n",
    "model = CatBoostClassifier(n_estimators=1000, verbose=False, random_state=random_state)\n",
    "start_time = time.time()\n",
    "model.fit(train_X, train_Y)\n",
    "training_time = time.time() - start_time\n",
    "y_pred_test = model.predict(test_X)"
   ]
  },
  {
   "cell_type": "markdown",
   "metadata": {
    "papermill": {
     "duration": 0.051425,
     "end_time": "2020-11-18T17:27:14.808939",
     "exception": false,
     "start_time": "2020-11-18T17:27:14.757514",
     "status": "completed"
    },
    "tags": []
   },
   "source": [
    "# 8. 결과 파일 저장\n",
    "\n",
    "예측 결과를 Kaggle에 제출하는 형식으로 만든 후 csv 파일로 저장"
   ]
  },
  {
   "cell_type": "code",
   "execution_count": 24,
   "metadata": {
    "_cell_guid": "a1436ec8-8559-45da-8392-4538ae3807ab",
    "_uuid": "bab57259b5e305ac55151af6d140fb58f2f1e6cb",
    "execution": {
     "iopub.execute_input": "2020-11-18T17:27:14.934600Z",
     "iopub.status.busy": "2020-11-18T17:27:14.933724Z",
     "iopub.status.idle": "2020-11-18T17:27:15.204836Z",
     "shell.execute_reply": "2020-11-18T17:27:15.203947Z"
    },
    "papermill": {
     "duration": 0.335283,
     "end_time": "2020-11-18T17:27:15.204990",
     "exception": false,
     "start_time": "2020-11-18T17:27:14.869707",
     "status": "completed"
    },
    "tags": []
   },
   "outputs": [
    {
     "data": {
      "text/html": [
       "<div>\n",
       "<style scoped>\n",
       "    .dataframe tbody tr th:only-of-type {\n",
       "        vertical-align: middle;\n",
       "    }\n",
       "\n",
       "    .dataframe tbody tr th {\n",
       "        vertical-align: top;\n",
       "    }\n",
       "\n",
       "    .dataframe thead th {\n",
       "        text-align: right;\n",
       "    }\n",
       "</style>\n",
       "<table border=\"1\" class=\"dataframe\">\n",
       "  <thead>\n",
       "    <tr style=\"text-align: right;\">\n",
       "      <th></th>\n",
       "      <th>PassengerId</th>\n",
       "      <th>Survived</th>\n",
       "    </tr>\n",
       "  </thead>\n",
       "  <tbody>\n",
       "    <tr>\n",
       "      <th>891</th>\n",
       "      <td>892</td>\n",
       "      <td>0</td>\n",
       "    </tr>\n",
       "    <tr>\n",
       "      <th>892</th>\n",
       "      <td>893</td>\n",
       "      <td>1</td>\n",
       "    </tr>\n",
       "    <tr>\n",
       "      <th>893</th>\n",
       "      <td>894</td>\n",
       "      <td>0</td>\n",
       "    </tr>\n",
       "    <tr>\n",
       "      <th>894</th>\n",
       "      <td>895</td>\n",
       "      <td>0</td>\n",
       "    </tr>\n",
       "    <tr>\n",
       "      <th>895</th>\n",
       "      <td>896</td>\n",
       "      <td>1</td>\n",
       "    </tr>\n",
       "  </tbody>\n",
       "</table>\n",
       "</div>"
      ],
      "text/plain": [
       "     PassengerId  Survived\n",
       "891          892         0\n",
       "892          893         1\n",
       "893          894         0\n",
       "894          895         0\n",
       "895          896         1"
      ]
     },
     "execution_count": 24,
     "metadata": {},
     "output_type": "execute_result"
    }
   ],
   "source": [
    "submission = pd.DataFrame({\n",
    "    \"PassengerId\": data[891:][\"PassengerId\"], \n",
    "    \"Survived\": y_pred_test\n",
    "},dtype='int32')\n",
    "submission.to_csv('submission.csv', index=False)\n",
    "submission.head()"
   ]
  }
 ],
 "metadata": {
  "kernelspec": {
   "display_name": "Python 3",
   "language": "python",
   "name": "python3"
  },
  "language_info": {
   "codemirror_mode": {
    "name": "ipython",
    "version": 3
   },
   "file_extension": ".py",
   "mimetype": "text/x-python",
   "name": "python",
   "nbconvert_exporter": "python",
   "pygments_lexer": "ipython3",
   "version": "3.7.6"
  },
  "papermill": {
   "duration": 187.101011,
   "end_time": "2020-11-18T17:27:15.368454",
   "environment_variables": {},
   "exception": null,
   "input_path": "__notebook__.ipynb",
   "output_path": "__notebook__.ipynb",
   "parameters": {},
   "start_time": "2020-11-18T17:24:08.267443",
   "version": "2.1.0"
  }
 },
 "nbformat": 4,
 "nbformat_minor": 4
}
